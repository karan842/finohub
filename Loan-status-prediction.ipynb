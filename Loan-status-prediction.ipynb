{
 "cells": [
  {
   "cell_type": "markdown",
   "metadata": {},
   "source": [
    "# Loan status Prediction\n",
    "To predict where you are eligible for the loan or not with the help of your submitted information\n"
   ]
  },
  {
   "cell_type": "markdown",
   "metadata": {},
   "source": [
    "# Problem Statement:\n",
    "Finance company deals in all kinds of home loans. They have a presence across all urban, semi-urban and rural areas. The customer first applies for a home loan and after that, the company validates the customer eligibility for the loan.\n",
    "\n",
    "The company wants to automate the loan eligibility process (real-time) based on customer detail provided while filling out online application forms. These details are Gender, Marital Status, Education, number of Dependents, Income, Loan Amount, Credit History, and others.\n",
    "\n",
    "To automate this process, they have provided a dataset to identify the customer segments that are eligible for loan amounts so that they can specifically target these customers.\n",
    "\n",
    "### What is Loan?:\n",
    "- **Loan**: The term loan refers to a type of credit vehicle in which a sum of money is lent to another party in exchange for future repayment of the value or principal amount. In many cases, the lender also adds interest and/or finance charges to the principal value which the borrower must repay in addition to the principal balance. Loans may be for a specific, one-time amount, or they may be available as an open-ended line of credit up to a specified limit. Loans come in many different forms including secured, unsecured, commercial, and personal loans."
   ]
  },
  {
   "cell_type": "markdown",
   "metadata": {},
   "source": [
    "# About the Data:\n",
    "- Attributes:\n",
    "\n",
    "![columns_meaning.png](https://lh4.googleusercontent.com/Toh_V2T2hPde7_CwbNHbO4oiAk01LykBuVEd86fSQgqiLWu4CHGavONhvBHfXBMCW9Q8S32WmiI5bge5uIZ_70KWbhu_x8Vl-VCF4PC1BkyDn7v4m1q0hfRiF4NfL4U9mdpGSdoA)"
   ]
  },
  {
   "cell_type": "markdown",
   "metadata": {},
   "source": [
    "# Importing Libraries"
   ]
  },
  {
   "cell_type": "code",
   "execution_count": 238,
   "metadata": {
    "execution": {
     "iopub.execute_input": "2022-03-17T06:57:46.653390Z",
     "iopub.status.busy": "2022-03-17T06:57:46.652764Z",
     "iopub.status.idle": "2022-03-17T06:57:47.739598Z",
     "shell.execute_reply": "2022-03-17T06:57:47.738607Z",
     "shell.execute_reply.started": "2022-03-17T06:57:46.653260Z"
    }
   },
   "outputs": [],
   "source": [
    "import pandas as pd\n",
    "import numpy as np\n",
    "import matplotlib.pyplot as plt\n",
    "import seaborn as sns\n",
    "%matplotlib inline\n",
    "sns.set_style('darkgrid')\n",
    "sns.set()\n",
    "plt.style.use('ggplot')\n",
    "import warnings\n",
    "warnings.filterwarnings('ignore')"
   ]
  },
  {
   "cell_type": "markdown",
   "metadata": {},
   "source": [
    "## Loading the data"
   ]
  },
  {
   "cell_type": "code",
   "execution_count": 239,
   "metadata": {
    "execution": {
     "iopub.execute_input": "2022-03-17T06:57:47.743188Z",
     "iopub.status.busy": "2022-03-17T06:57:47.742622Z",
     "iopub.status.idle": "2022-03-17T06:57:47.798008Z",
     "shell.execute_reply": "2022-03-17T06:57:47.797094Z",
     "shell.execute_reply.started": "2022-03-17T06:57:47.743137Z"
    }
   },
   "outputs": [
    {
     "name": "stdout",
     "output_type": "stream",
     "text": [
      "Top 5 rows from the data: \n"
     ]
    },
    {
     "data": {
      "text/html": [
       "<div>\n",
       "<style scoped>\n",
       "    .dataframe tbody tr th:only-of-type {\n",
       "        vertical-align: middle;\n",
       "    }\n",
       "\n",
       "    .dataframe tbody tr th {\n",
       "        vertical-align: top;\n",
       "    }\n",
       "\n",
       "    .dataframe thead th {\n",
       "        text-align: right;\n",
       "    }\n",
       "</style>\n",
       "<table border=\"1\" class=\"dataframe\">\n",
       "  <thead>\n",
       "    <tr style=\"text-align: right;\">\n",
       "      <th></th>\n",
       "      <th>Loan_ID</th>\n",
       "      <th>Gender</th>\n",
       "      <th>Married</th>\n",
       "      <th>Dependents</th>\n",
       "      <th>Education</th>\n",
       "      <th>Self_Employed</th>\n",
       "      <th>ApplicantIncome</th>\n",
       "      <th>CoapplicantIncome</th>\n",
       "      <th>LoanAmount</th>\n",
       "      <th>Loan_Amount_Term</th>\n",
       "      <th>Credit_History</th>\n",
       "      <th>Property_Area</th>\n",
       "      <th>Loan_Status</th>\n",
       "    </tr>\n",
       "  </thead>\n",
       "  <tbody>\n",
       "    <tr>\n",
       "      <th>0</th>\n",
       "      <td>LP001002</td>\n",
       "      <td>Male</td>\n",
       "      <td>No</td>\n",
       "      <td>0</td>\n",
       "      <td>Graduate</td>\n",
       "      <td>No</td>\n",
       "      <td>5849</td>\n",
       "      <td>0.0</td>\n",
       "      <td>NaN</td>\n",
       "      <td>360.0</td>\n",
       "      <td>1.0</td>\n",
       "      <td>Urban</td>\n",
       "      <td>Y</td>\n",
       "    </tr>\n",
       "    <tr>\n",
       "      <th>1</th>\n",
       "      <td>LP001003</td>\n",
       "      <td>Male</td>\n",
       "      <td>Yes</td>\n",
       "      <td>1</td>\n",
       "      <td>Graduate</td>\n",
       "      <td>No</td>\n",
       "      <td>4583</td>\n",
       "      <td>1508.0</td>\n",
       "      <td>128.0</td>\n",
       "      <td>360.0</td>\n",
       "      <td>1.0</td>\n",
       "      <td>Rural</td>\n",
       "      <td>N</td>\n",
       "    </tr>\n",
       "    <tr>\n",
       "      <th>2</th>\n",
       "      <td>LP001005</td>\n",
       "      <td>Male</td>\n",
       "      <td>Yes</td>\n",
       "      <td>0</td>\n",
       "      <td>Graduate</td>\n",
       "      <td>Yes</td>\n",
       "      <td>3000</td>\n",
       "      <td>0.0</td>\n",
       "      <td>66.0</td>\n",
       "      <td>360.0</td>\n",
       "      <td>1.0</td>\n",
       "      <td>Urban</td>\n",
       "      <td>Y</td>\n",
       "    </tr>\n",
       "    <tr>\n",
       "      <th>3</th>\n",
       "      <td>LP001006</td>\n",
       "      <td>Male</td>\n",
       "      <td>Yes</td>\n",
       "      <td>0</td>\n",
       "      <td>Not Graduate</td>\n",
       "      <td>No</td>\n",
       "      <td>2583</td>\n",
       "      <td>2358.0</td>\n",
       "      <td>120.0</td>\n",
       "      <td>360.0</td>\n",
       "      <td>1.0</td>\n",
       "      <td>Urban</td>\n",
       "      <td>Y</td>\n",
       "    </tr>\n",
       "    <tr>\n",
       "      <th>4</th>\n",
       "      <td>LP001008</td>\n",
       "      <td>Male</td>\n",
       "      <td>No</td>\n",
       "      <td>0</td>\n",
       "      <td>Graduate</td>\n",
       "      <td>No</td>\n",
       "      <td>6000</td>\n",
       "      <td>0.0</td>\n",
       "      <td>141.0</td>\n",
       "      <td>360.0</td>\n",
       "      <td>1.0</td>\n",
       "      <td>Urban</td>\n",
       "      <td>Y</td>\n",
       "    </tr>\n",
       "  </tbody>\n",
       "</table>\n",
       "</div>"
      ],
      "text/plain": [
       "    Loan_ID Gender Married Dependents     Education Self_Employed  \\\n",
       "0  LP001002   Male      No          0      Graduate            No   \n",
       "1  LP001003   Male     Yes          1      Graduate            No   \n",
       "2  LP001005   Male     Yes          0      Graduate           Yes   \n",
       "3  LP001006   Male     Yes          0  Not Graduate            No   \n",
       "4  LP001008   Male      No          0      Graduate            No   \n",
       "\n",
       "   ApplicantIncome  CoapplicantIncome  LoanAmount  Loan_Amount_Term  \\\n",
       "0             5849                0.0         NaN             360.0   \n",
       "1             4583             1508.0       128.0             360.0   \n",
       "2             3000                0.0        66.0             360.0   \n",
       "3             2583             2358.0       120.0             360.0   \n",
       "4             6000                0.0       141.0             360.0   \n",
       "\n",
       "   Credit_History Property_Area Loan_Status  \n",
       "0             1.0         Urban           Y  \n",
       "1             1.0         Rural           N  \n",
       "2             1.0         Urban           Y  \n",
       "3             1.0         Urban           Y  \n",
       "4             1.0         Urban           Y  "
      ]
     },
     "execution_count": 239,
     "metadata": {},
     "output_type": "execute_result"
    }
   ],
   "source": [
    "data = pd.read_csv('data/train.csv')\n",
    "print(\"Top 5 rows from the data: \")\n",
    "data.head()"
   ]
  },
  {
   "cell_type": "markdown",
   "metadata": {},
   "source": [
    "---\n",
    "* _What are the features of dataset?_\n",
    "---"
   ]
  },
  {
   "cell_type": "code",
   "execution_count": 240,
   "metadata": {
    "execution": {
     "iopub.execute_input": "2022-03-17T06:57:47.800085Z",
     "iopub.status.busy": "2022-03-17T06:57:47.799404Z",
     "iopub.status.idle": "2022-03-17T06:57:47.839432Z",
     "shell.execute_reply": "2022-03-17T06:57:47.838010Z",
     "shell.execute_reply.started": "2022-03-17T06:57:47.800048Z"
    }
   },
   "outputs": [
    {
     "name": "stdout",
     "output_type": "stream",
     "text": [
      "SHAPE OF THE DATA: \n",
      "(614, 13)\n",
      "------------------------------------------------------------------------------------------\n",
      "INFORMATION OF THE DATA: \n",
      "<class 'pandas.core.frame.DataFrame'>\n",
      "RangeIndex: 614 entries, 0 to 613\n",
      "Data columns (total 13 columns):\n",
      " #   Column             Non-Null Count  Dtype  \n",
      "---  ------             --------------  -----  \n",
      " 0   Loan_ID            614 non-null    object \n",
      " 1   Gender             601 non-null    object \n",
      " 2   Married            611 non-null    object \n",
      " 3   Dependents         599 non-null    object \n",
      " 4   Education          614 non-null    object \n",
      " 5   Self_Employed      582 non-null    object \n",
      " 6   ApplicantIncome    614 non-null    int64  \n",
      " 7   CoapplicantIncome  614 non-null    float64\n",
      " 8   LoanAmount         592 non-null    float64\n",
      " 9   Loan_Amount_Term   600 non-null    float64\n",
      " 10  Credit_History     564 non-null    float64\n",
      " 11  Property_Area      614 non-null    object \n",
      " 12  Loan_Status        614 non-null    object \n",
      "dtypes: float64(4), int64(1), object(8)\n",
      "memory usage: 62.5+ KB\n",
      "None\n",
      "------------------------------------------------------------------------------------------\n",
      "NUMBER OF NULL VALUES PRESENT IN THE DATA: \n",
      "Loan_ID               0\n",
      "Gender               13\n",
      "Married               3\n",
      "Dependents           15\n",
      "Education             0\n",
      "Self_Employed        32\n",
      "ApplicantIncome       0\n",
      "CoapplicantIncome     0\n",
      "LoanAmount           22\n",
      "Loan_Amount_Term     14\n",
      "Credit_History       50\n",
      "Property_Area         0\n",
      "Loan_Status           0\n",
      "dtype: int64\n",
      "------------------------------------------------------------------------------------------\n",
      "COLUMN NAMES OF THE DATA: \n",
      "Index(['Loan_ID', 'Gender', 'Married', 'Dependents', 'Education',\n",
      "       'Self_Employed', 'ApplicantIncome', 'CoapplicantIncome', 'LoanAmount',\n",
      "       'Loan_Amount_Term', 'Credit_History', 'Property_Area', 'Loan_Status'],\n",
      "      dtype='object')\n",
      "------------------------------------------------------------------------------------------\n"
     ]
    }
   ],
   "source": [
    "# creating a function which will give us features from the dataset\n",
    "def data_feature(dataset):\n",
    "    print(\"SHAPE OF THE DATA: \")\n",
    "    print(dataset.shape)\n",
    "    print(\"-\"*90)\n",
    "    print(\"INFORMATION OF THE DATA: \")\n",
    "    print(dataset.info())\n",
    "    print(\"-\"*90)\n",
    "    print(\"NUMBER OF NULL VALUES PRESENT IN THE DATA: \")\n",
    "    print(dataset.isnull().sum())\n",
    "    print(\"-\"*90)\n",
    "    print(\"COLUMN NAMES OF THE DATA: \")\n",
    "    print(dataset.columns)\n",
    "    print(\"-\"*90)\n",
    "    \n",
    "data_feature(data)\n",
    "    "
   ]
  },
  {
   "cell_type": "markdown",
   "metadata": {},
   "source": [
    "**Observations**:\n",
    "1. The data is no that large.\n",
    "2. Our target class is in the form of **Binary(i.e. YES or NO, also 0 or 1)**.\n",
    "3. Data contains some null values.\n",
    "4. Data has 12 columns and a column called **LOAN STATUS** is our target column"
   ]
  },
  {
   "cell_type": "markdown",
   "metadata": {},
   "source": [
    "# Exploratory Data Analysis"
   ]
  },
  {
   "cell_type": "markdown",
   "metadata": {},
   "source": [
    "- Statistical Description"
   ]
  },
  {
   "cell_type": "code",
   "execution_count": 241,
   "metadata": {
    "execution": {
     "iopub.execute_input": "2022-03-17T06:57:47.842073Z",
     "iopub.status.busy": "2022-03-17T06:57:47.841801Z",
     "iopub.status.idle": "2022-03-17T06:57:47.876781Z",
     "shell.execute_reply": "2022-03-17T06:57:47.875671Z",
     "shell.execute_reply.started": "2022-03-17T06:57:47.842045Z"
    }
   },
   "outputs": [
    {
     "data": {
      "text/html": [
       "<div>\n",
       "<style scoped>\n",
       "    .dataframe tbody tr th:only-of-type {\n",
       "        vertical-align: middle;\n",
       "    }\n",
       "\n",
       "    .dataframe tbody tr th {\n",
       "        vertical-align: top;\n",
       "    }\n",
       "\n",
       "    .dataframe thead th {\n",
       "        text-align: right;\n",
       "    }\n",
       "</style>\n",
       "<table border=\"1\" class=\"dataframe\">\n",
       "  <thead>\n",
       "    <tr style=\"text-align: right;\">\n",
       "      <th></th>\n",
       "      <th>ApplicantIncome</th>\n",
       "      <th>CoapplicantIncome</th>\n",
       "      <th>LoanAmount</th>\n",
       "      <th>Loan_Amount_Term</th>\n",
       "      <th>Credit_History</th>\n",
       "    </tr>\n",
       "  </thead>\n",
       "  <tbody>\n",
       "    <tr>\n",
       "      <th>count</th>\n",
       "      <td>614.000000</td>\n",
       "      <td>614.000000</td>\n",
       "      <td>592.000000</td>\n",
       "      <td>600.00000</td>\n",
       "      <td>564.000000</td>\n",
       "    </tr>\n",
       "    <tr>\n",
       "      <th>mean</th>\n",
       "      <td>5403.459283</td>\n",
       "      <td>1621.245798</td>\n",
       "      <td>146.412162</td>\n",
       "      <td>342.00000</td>\n",
       "      <td>0.842199</td>\n",
       "    </tr>\n",
       "    <tr>\n",
       "      <th>std</th>\n",
       "      <td>6109.041673</td>\n",
       "      <td>2926.248369</td>\n",
       "      <td>85.587325</td>\n",
       "      <td>65.12041</td>\n",
       "      <td>0.364878</td>\n",
       "    </tr>\n",
       "    <tr>\n",
       "      <th>min</th>\n",
       "      <td>150.000000</td>\n",
       "      <td>0.000000</td>\n",
       "      <td>9.000000</td>\n",
       "      <td>12.00000</td>\n",
       "      <td>0.000000</td>\n",
       "    </tr>\n",
       "    <tr>\n",
       "      <th>25%</th>\n",
       "      <td>2877.500000</td>\n",
       "      <td>0.000000</td>\n",
       "      <td>100.000000</td>\n",
       "      <td>360.00000</td>\n",
       "      <td>1.000000</td>\n",
       "    </tr>\n",
       "    <tr>\n",
       "      <th>50%</th>\n",
       "      <td>3812.500000</td>\n",
       "      <td>1188.500000</td>\n",
       "      <td>128.000000</td>\n",
       "      <td>360.00000</td>\n",
       "      <td>1.000000</td>\n",
       "    </tr>\n",
       "    <tr>\n",
       "      <th>75%</th>\n",
       "      <td>5795.000000</td>\n",
       "      <td>2297.250000</td>\n",
       "      <td>168.000000</td>\n",
       "      <td>360.00000</td>\n",
       "      <td>1.000000</td>\n",
       "    </tr>\n",
       "    <tr>\n",
       "      <th>max</th>\n",
       "      <td>81000.000000</td>\n",
       "      <td>41667.000000</td>\n",
       "      <td>700.000000</td>\n",
       "      <td>480.00000</td>\n",
       "      <td>1.000000</td>\n",
       "    </tr>\n",
       "  </tbody>\n",
       "</table>\n",
       "</div>"
      ],
      "text/plain": [
       "       ApplicantIncome  CoapplicantIncome  LoanAmount  Loan_Amount_Term  \\\n",
       "count       614.000000         614.000000  592.000000         600.00000   \n",
       "mean       5403.459283        1621.245798  146.412162         342.00000   \n",
       "std        6109.041673        2926.248369   85.587325          65.12041   \n",
       "min         150.000000           0.000000    9.000000          12.00000   \n",
       "25%        2877.500000           0.000000  100.000000         360.00000   \n",
       "50%        3812.500000        1188.500000  128.000000         360.00000   \n",
       "75%        5795.000000        2297.250000  168.000000         360.00000   \n",
       "max       81000.000000       41667.000000  700.000000         480.00000   \n",
       "\n",
       "       Credit_History  \n",
       "count      564.000000  \n",
       "mean         0.842199  \n",
       "std          0.364878  \n",
       "min          0.000000  \n",
       "25%          1.000000  \n",
       "50%          1.000000  \n",
       "75%          1.000000  \n",
       "max          1.000000  "
      ]
     },
     "execution_count": 241,
     "metadata": {},
     "output_type": "execute_result"
    }
   ],
   "source": [
    "data.describe()"
   ]
  },
  {
   "cell_type": "markdown",
   "metadata": {},
   "source": [
    "## Univariate Analysis\n",
    "It is the simplest form of analyzing data where we examine each variable individually. For categorical features we can use frequency table or bar plots which will calculate the number of each category in a particular variable. For numerical features, probability density plots can be used to look at the distribution of the variable."
   ]
  },
  {
   "cell_type": "code",
   "execution_count": 242,
   "metadata": {
    "execution": {
     "iopub.execute_input": "2022-03-17T06:57:47.879246Z",
     "iopub.status.busy": "2022-03-17T06:57:47.878359Z",
     "iopub.status.idle": "2022-03-17T06:57:47.890508Z",
     "shell.execute_reply": "2022-03-17T06:57:47.888814Z",
     "shell.execute_reply.started": "2022-03-17T06:57:47.879185Z"
    }
   },
   "outputs": [
    {
     "data": {
      "text/plain": [
       "Y    422\n",
       "N    192\n",
       "Name: Loan_Status, dtype: int64"
      ]
     },
     "execution_count": 242,
     "metadata": {},
     "output_type": "execute_result"
    }
   ],
   "source": [
    "# Analyzing the target variable\n",
    "data['Loan_Status'].value_counts()"
   ]
  },
  {
   "cell_type": "code",
   "execution_count": 243,
   "metadata": {
    "execution": {
     "iopub.execute_input": "2022-03-17T06:57:47.893121Z",
     "iopub.status.busy": "2022-03-17T06:57:47.892308Z",
     "iopub.status.idle": "2022-03-17T06:57:47.907580Z",
     "shell.execute_reply": "2022-03-17T06:57:47.906915Z",
     "shell.execute_reply.started": "2022-03-17T06:57:47.893071Z"
    }
   },
   "outputs": [
    {
     "data": {
      "text/plain": [
       "Y    0.687296\n",
       "N    0.312704\n",
       "Name: Loan_Status, dtype: float64"
      ]
     },
     "execution_count": 243,
     "metadata": {},
     "output_type": "execute_result"
    }
   ],
   "source": [
    "# Let's normalize and check the proportion\n",
    "data['Loan_Status'].value_counts(normalize=True)"
   ]
  },
  {
   "cell_type": "markdown",
   "metadata": {},
   "source": [
    "- 422 loan requests has been approved out of 614 where percentage of approval is (69%)"
   ]
  },
  {
   "cell_type": "code",
   "execution_count": 244,
   "metadata": {
    "execution": {
     "iopub.execute_input": "2022-03-17T06:57:47.909306Z",
     "iopub.status.busy": "2022-03-17T06:57:47.909037Z",
     "iopub.status.idle": "2022-03-17T06:57:48.177200Z",
     "shell.execute_reply": "2022-03-17T06:57:48.176055Z",
     "shell.execute_reply.started": "2022-03-17T06:57:47.909275Z"
    }
   },
   "outputs": [
    {
     "data": {
      "image/png": "[encoded data removed]",
      "text/plain": [
       "<Figure size 576x432 with 1 Axes>"
      ]
     },
     "metadata": {},
     "output_type": "display_data"
    }
   ],
   "source": [
    "# Representing each category using visualization\n",
    "plt.figure(figsize=(8,6))\n",
    "sns.countplot(x='Loan_Status', data=data)\n",
    "plt.title('Loan Status')\n",
    "plt.show()"
   ]
  },
  {
   "cell_type": "markdown",
   "metadata": {},
   "source": [
    "### Visualizing each variable \n",
    "- Different types of variables in our dataset are Categorical, ordinal and numerical.\n",
    "\n",
    "*Categorical features:* These features have categories (Gender, Married, Self_Employed, Credit_History, Loan_Status)\n",
    "\n",
    "*Ordinal features:* Variables in categorical features having some order involved (Dependents, Education, Property_Area)\n",
    "\n",
    "*Numerical features:* These features have numerical values (ApplicantIncome, CoapplicantIncome, LoanAmount, Loan_Amount_Term"
   ]
  },
  {
   "cell_type": "code",
   "execution_count": 245,
   "metadata": {
    "execution": {
     "iopub.execute_input": "2022-03-17T06:57:48.179113Z",
     "iopub.status.busy": "2022-03-17T06:57:48.178772Z",
     "iopub.status.idle": "2022-03-17T06:57:48.813163Z",
     "shell.execute_reply": "2022-03-17T06:57:48.812194Z",
     "shell.execute_reply.started": "2022-03-17T06:57:48.179071Z"
    }
   },
   "outputs": [
    {
     "data": {
      "image/png": "[encoded data removed]",
      "text/plain": [
       "<Figure size 720x576 with 4 Axes>"
      ]
     },
     "metadata": {},
     "output_type": "display_data"
    }
   ],
   "source": [
    "# Analyzing independent variable (Categorical)\n",
    "\n",
    "plt.figure(figsize=(10,8))\n",
    "plt.subplot(221)\n",
    "sns.countplot(x='Gender',data=data)\n",
    "# plt.title('Gender')\n",
    "plt.subplot(222)\n",
    "sns.countplot(x='Married',data=data)\n",
    "# plt.title('Married')\n",
    "plt.subplot(223)\n",
    "sns.countplot(x='Self_Employed',data=data)\n",
    "# plt.title('Self_Employed')\n",
    "plt.subplot(224)\n",
    "sns.countplot(x='Credit_History',data=data)\n",
    "# plt.title('Credit_History')\n",
    "plt.show()"
   ]
  },
  {
   "cell_type": "markdown",
   "metadata": {},
   "source": [
    "### Observations from above plots:\n",
    "1. Nearly 80% of the applicants in dataset are Male.\n",
    "2. Nearly 65% of the applicants in dataset are Married.\n",
    "3. Nearly 15% of the applicants in dataset are Self Employed. \n",
    "4. Nearly 85% of the applicants have repaid their debts."
   ]
  },
  {
   "cell_type": "code",
   "execution_count": 246,
   "metadata": {
    "execution": {
     "iopub.execute_input": "2022-03-17T06:57:48.814700Z",
     "iopub.status.busy": "2022-03-17T06:57:48.814484Z",
     "iopub.status.idle": "2022-03-17T06:57:49.258671Z",
     "shell.execute_reply": "2022-03-17T06:57:49.257675Z",
     "shell.execute_reply.started": "2022-03-17T06:57:48.814674Z"
    }
   },
   "outputs": [
    {
     "data": {
      "image/png": "[encoded data removed]",
      "text/plain": [
       "<Figure size 1440x432 with 3 Axes>"
      ]
     },
     "metadata": {},
     "output_type": "display_data"
    }
   ],
   "source": [
    "# Analyzing Independent variable (Ordinal)\n",
    "\n",
    "plt.figure(figsize=(20,6))\n",
    "plt.figure(num=1)\n",
    "plt.subplot(131)\n",
    "sns.countplot(x='Dependents', data=data)\n",
    "plt.subplot(132)\n",
    "sns.countplot(x='Education', data=data)\n",
    "plt.subplot(133)\n",
    "sns.countplot(x='Property_Area', data=data)\n",
    "plt.show()"
   ]
  },
  {
   "cell_type": "markdown",
   "metadata": {},
   "source": [
    "### Observations can be made from above barplots:\n",
    "- Most of the applicants doesn't have any dependents.\n",
    "- Around 80% of the applicants are Graduate.\n",
    "- Most of the applicants are form Semi-Urban Area"
   ]
  },
  {
   "cell_type": "markdown",
   "metadata": {},
   "source": [
    "## Numerical Analysis"
   ]
  },
  {
   "cell_type": "code",
   "execution_count": 247,
   "metadata": {
    "execution": {
     "iopub.execute_input": "2022-03-17T06:57:49.262126Z",
     "iopub.status.busy": "2022-03-17T06:57:49.261794Z",
     "iopub.status.idle": "2022-03-17T06:57:49.920516Z",
     "shell.execute_reply": "2022-03-17T06:57:49.919650Z",
     "shell.execute_reply.started": "2022-03-17T06:57:49.262092Z"
    }
   },
   "outputs": [
    {
     "data": {
      "image/png": "[encoded data removed]",
      "text/plain": [
       "<Figure size 1152x360 with 2 Axes>"
      ]
     },
     "metadata": {},
     "output_type": "display_data"
    }
   ],
   "source": [
    "plt.figure(figsize=(16,5))\n",
    "plt.subplot(121)\n",
    "sns.distplot(data['ApplicantIncome'],bins=30)\n",
    "plt.subplot(122)\n",
    "sns.boxplot(data['ApplicantIncome'])\n",
    "plt.tight_layout()\n",
    "plt.show()"
   ]
  },
  {
   "cell_type": "markdown",
   "metadata": {},
   "source": [
    "### Observation:\n",
    "- It can be inferred that most of the data in distribution of applicant income is towards left which means it is not normally distributed. We will try to make it normal later as algorithms works better if the dta is normally distributed.\n",
    "\n",
    "- The boxplot confirms the presence of a lot of outliers/extreene values. This can be attributed to the income disparity in the society. Part of this can be driven by the fact that we are looking at people with different education levels. "
   ]
  },
  {
   "cell_type": "code",
   "execution_count": 248,
   "metadata": {
    "execution": {
     "iopub.execute_input": "2022-03-17T06:57:49.922624Z",
     "iopub.status.busy": "2022-03-17T06:57:49.921934Z",
     "iopub.status.idle": "2022-03-17T06:57:50.233789Z",
     "shell.execute_reply": "2022-03-17T06:57:50.232940Z",
     "shell.execute_reply.started": "2022-03-17T06:57:49.922578Z"
    }
   },
   "outputs": [
    {
     "data": {
      "image/png": "[encoded data removed]",
      "text/plain": [
       "<Figure size 432x288 with 1 Axes>"
      ]
     },
     "metadata": {},
     "output_type": "display_data"
    }
   ],
   "source": [
    "data.boxplot(column='ApplicantIncome', by='Education')\n",
    "plt.suptitle('')\n",
    "plt.tight_layout()"
   ]
  },
  {
   "cell_type": "markdown",
   "metadata": {},
   "source": [
    "- Grauduate people have high income than those who are Non-Graduate.\n",
    "\n",
    "Let's see **ApplicantIncome** factor for **Marital Status and Employed type**"
   ]
  },
  {
   "cell_type": "code",
   "execution_count": 249,
   "metadata": {
    "execution": {
     "iopub.execute_input": "2022-03-17T06:57:50.235448Z",
     "iopub.status.busy": "2022-03-17T06:57:50.235149Z",
     "iopub.status.idle": "2022-03-17T06:57:50.492609Z",
     "shell.execute_reply": "2022-03-17T06:57:50.491650Z",
     "shell.execute_reply.started": "2022-03-17T06:57:50.235408Z"
    }
   },
   "outputs": [
    {
     "data": {
      "text/plain": [
       "Text(0.5, 0.98, ' ')"
      ]
     },
     "execution_count": 249,
     "metadata": {},
     "output_type": "execute_result"
    },
    {
     "data": {
      "image/png": "[encoded data removed]",
      "text/plain": [
       "<Figure size 432x288 with 1 Axes>"
      ]
     },
     "metadata": {},
     "output_type": "display_data"
    }
   ],
   "source": [
    "data.boxplot(column='ApplicantIncome', by='Married')\n",
    "plt.suptitle(' ')"
   ]
  },
  {
   "cell_type": "markdown",
   "metadata": {},
   "source": [
    "- Married applicants has large amout-range of income"
   ]
  },
  {
   "cell_type": "code",
   "execution_count": 250,
   "metadata": {
    "execution": {
     "iopub.execute_input": "2022-03-17T06:57:50.494137Z",
     "iopub.status.busy": "2022-03-17T06:57:50.493852Z",
     "iopub.status.idle": "2022-03-17T06:57:50.749487Z",
     "shell.execute_reply": "2022-03-17T06:57:50.748634Z",
     "shell.execute_reply.started": "2022-03-17T06:57:50.494099Z"
    }
   },
   "outputs": [
    {
     "data": {
      "text/plain": [
       "Text(0.5, 0.98, ' ')"
      ]
     },
     "execution_count": 250,
     "metadata": {},
     "output_type": "execute_result"
    },
    {
     "data": {
      "image/png": "[encoded data removed]",
      "text/plain": [
       "<Figure size 432x288 with 1 Axes>"
      ]
     },
     "metadata": {},
     "output_type": "display_data"
    }
   ],
   "source": [
    "data.boxplot(column='ApplicantIncome', by='Self_Employed')\n",
    "plt.suptitle(' ')"
   ]
  },
  {
   "cell_type": "markdown",
   "metadata": {},
   "source": [
    "- Those are **Self-Employed** (business, freelancing, etc.) has lower income amount-range than applicants who are Employed."
   ]
  },
  {
   "cell_type": "markdown",
   "metadata": {},
   "source": [
    "### Observation:\n",
    "\n",
    "Those who category who has high income range are also appearnig to be the outliers."
   ]
  },
  {
   "cell_type": "code",
   "execution_count": 251,
   "metadata": {
    "execution": {
     "iopub.execute_input": "2022-03-17T06:57:50.750768Z",
     "iopub.status.busy": "2022-03-17T06:57:50.750556Z",
     "iopub.status.idle": "2022-03-17T06:57:51.198207Z",
     "shell.execute_reply": "2022-03-17T06:57:51.197386Z",
     "shell.execute_reply.started": "2022-03-17T06:57:50.750743Z"
    }
   },
   "outputs": [
    {
     "data": {
      "text/plain": [
       "<Figure size 432x288 with 0 Axes>"
      ]
     },
     "metadata": {},
     "output_type": "display_data"
    },
    {
     "data": {
      "image/png": "[encoded data removed]",
      "text/plain": [
       "<Figure size 1152x360 with 2 Axes>"
      ]
     },
     "metadata": {},
     "output_type": "display_data"
    }
   ],
   "source": [
    "plt.figure(num=1)\n",
    "plt.figure(figsize=(16,5))\n",
    "plt.subplot(121)\n",
    "sns.distplot(data['CoapplicantIncome'],bins=30)\n",
    "plt.subplot(122)\n",
    "data.boxplot(column='CoapplicantIncome')\n",
    "plt.show()"
   ]
  },
  {
   "cell_type": "markdown",
   "metadata": {},
   "source": [
    "#### We see a similar distribution as that applicant income. Majority of coapplicant's income ranges from 0 to 5000. We also see a lot of outliers in the coapplicant income and it is not normally distributed."
   ]
  },
  {
   "cell_type": "code",
   "execution_count": 252,
   "metadata": {
    "execution": {
     "iopub.execute_input": "2022-03-17T06:57:51.200182Z",
     "iopub.status.busy": "2022-03-17T06:57:51.199663Z",
     "iopub.status.idle": "2022-03-17T06:57:51.679678Z",
     "shell.execute_reply": "2022-03-17T06:57:51.678878Z",
     "shell.execute_reply.started": "2022-03-17T06:57:51.200139Z"
    }
   },
   "outputs": [
    {
     "data": {
      "image/png": "[encoded data removed]",
      "text/plain": [
       "<Figure size 1152x360 with 2 Axes>"
      ]
     },
     "metadata": {},
     "output_type": "display_data"
    }
   ],
   "source": [
    "plt.figure(1)\n",
    "plt.subplot(121)\n",
    "# For better working it is necessary to drop null values\n",
    "df = data.dropna()\n",
    "sns.distplot(df['LoanAmount'],bins=30,color='purple')\n",
    "plt.subplot(122)\n",
    "data['LoanAmount'].plot.box(figsize=(16,5))\n",
    "plt.show()"
   ]
  },
  {
   "cell_type": "markdown",
   "metadata": {},
   "source": [
    "#### We see a lot of outliers in **LoanAmount** is variable and the distribution is fairly normal."
   ]
  },
  {
   "cell_type": "markdown",
   "metadata": {},
   "source": [
    "## PairPlot\n",
    "Pairplot will plot pairwise relationships across an entire dataframe(for the numerical columns only) and supports a colos hue argument(for categorical columns)."
   ]
  },
  {
   "cell_type": "code",
   "execution_count": 253,
   "metadata": {
    "execution": {
     "iopub.execute_input": "2022-03-17T06:57:51.681008Z",
     "iopub.status.busy": "2022-03-17T06:57:51.680749Z",
     "iopub.status.idle": "2022-03-17T06:57:59.803732Z",
     "shell.execute_reply": "2022-03-17T06:57:59.802952Z",
     "shell.execute_reply.started": "2022-03-17T06:57:51.680972Z"
    }
   },
   "outputs": [
    {
     "data": {
      "text/plain": [
       "<seaborn.axisgrid.PairGrid at 0x16be3c5db50>"
      ]
     },
     "execution_count": 253,
     "metadata": {},
     "output_type": "execute_result"
    },
    {
     "data": {
      "text/plain": [
       "<Figure size 1296x1008 with 0 Axes>"
      ]
     },
     "metadata": {},
     "output_type": "display_data"
    },
    {
     "data": {
      "image/png": "[encoded data removed]",
      "text/plain": [
       "<Figure size 1005.98x900 with 30 Axes>"
      ]
     },
     "metadata": {},
     "output_type": "display_data"
    }
   ],
   "source": [
    "plt.figure(figsize=(18,14))\n",
    "sns.pairplot(df,hue='Education', palette='dark')"
   ]
  },
  {
   "cell_type": "markdown",
   "metadata": {},
   "source": [
    "## Bivariate Analysis\n",
    "After looking at every variable individually in univariate analysis, we will now exolore them again with respect to the target variable, We would like to know how well each feature correlate with our target variable Loan Status."
   ]
  },
  {
   "cell_type": "markdown",
   "metadata": {},
   "source": [
    "## Categorical Independent Variable vs Target Variable\n",
    "First of all we will find the relation between target variable and categorical variables. Let us look at the stacked bar plot now which will give us the proportion of approved and unapproved loans"
   ]
  },
  {
   "cell_type": "code",
   "execution_count": 254,
   "metadata": {
    "execution": {
     "iopub.execute_input": "2022-03-17T06:57:59.805993Z",
     "iopub.status.busy": "2022-03-17T06:57:59.805215Z",
     "iopub.status.idle": "2022-03-17T06:57:59.834815Z",
     "shell.execute_reply": "2022-03-17T06:57:59.833954Z",
     "shell.execute_reply.started": "2022-03-17T06:57:59.805948Z"
    }
   },
   "outputs": [
    {
     "data": {
      "text/html": [
       "<div>\n",
       "<style scoped>\n",
       "    .dataframe tbody tr th:only-of-type {\n",
       "        vertical-align: middle;\n",
       "    }\n",
       "\n",
       "    .dataframe tbody tr th {\n",
       "        vertical-align: top;\n",
       "    }\n",
       "\n",
       "    .dataframe thead th {\n",
       "        text-align: right;\n",
       "    }\n",
       "</style>\n",
       "<table border=\"1\" class=\"dataframe\">\n",
       "  <thead>\n",
       "    <tr style=\"text-align: right;\">\n",
       "      <th>Loan_Status</th>\n",
       "      <th>N</th>\n",
       "      <th>Y</th>\n",
       "    </tr>\n",
       "    <tr>\n",
       "      <th>Gender</th>\n",
       "      <th></th>\n",
       "      <th></th>\n",
       "    </tr>\n",
       "  </thead>\n",
       "  <tbody>\n",
       "    <tr>\n",
       "      <th>Female</th>\n",
       "      <td>37</td>\n",
       "      <td>75</td>\n",
       "    </tr>\n",
       "    <tr>\n",
       "      <th>Male</th>\n",
       "      <td>150</td>\n",
       "      <td>339</td>\n",
       "    </tr>\n",
       "  </tbody>\n",
       "</table>\n",
       "</div>"
      ],
      "text/plain": [
       "Loan_Status    N    Y\n",
       "Gender               \n",
       "Female        37   75\n",
       "Male         150  339"
      ]
     },
     "execution_count": 254,
     "metadata": {},
     "output_type": "execute_result"
    }
   ],
   "source": [
    "Gender = pd.crosstab(index=data['Gender'],columns=data['Loan_Status'])\n",
    "Gender"
   ]
  },
  {
   "cell_type": "markdown",
   "metadata": {},
   "source": [
    "---\n",
    "* _Crosstab_: A crosstab is a table showing the relationship between two or more variables. Where the table only shows the relationship between two categorical variables, a crosstab is also known as a contingency table.\n",
    "---"
   ]
  },
  {
   "cell_type": "code",
   "execution_count": 255,
   "metadata": {
    "execution": {
     "iopub.execute_input": "2022-03-17T06:57:59.836881Z",
     "iopub.status.busy": "2022-03-17T06:57:59.836385Z",
     "iopub.status.idle": "2022-03-17T06:57:59.846270Z",
     "shell.execute_reply": "2022-03-17T06:57:59.845254Z",
     "shell.execute_reply.started": "2022-03-17T06:57:59.836818Z"
    }
   },
   "outputs": [
    {
     "data": {
      "text/plain": [
       "Gender\n",
       "Female    112.0\n",
       "Male      489.0\n",
       "dtype: float64"
      ]
     },
     "execution_count": 255,
     "metadata": {},
     "output_type": "execute_result"
    }
   ],
   "source": [
    "Gender.sum(1).astype(float)"
   ]
  },
  {
   "cell_type": "code",
   "execution_count": 256,
   "metadata": {
    "execution": {
     "iopub.execute_input": "2022-03-17T06:57:59.849654Z",
     "iopub.status.busy": "2022-03-17T06:57:59.849039Z",
     "iopub.status.idle": "2022-03-17T06:57:59.856589Z",
     "shell.execute_reply": "2022-03-17T06:57:59.856032Z",
     "shell.execute_reply.started": "2022-03-17T06:57:59.849610Z"
    }
   },
   "outputs": [
    {
     "name": "stdout",
     "output_type": "stream",
     "text": [
      "Percentage of Female applicants whose application is approved: 66.96%\n"
     ]
    }
   ],
   "source": [
    "female_Y = round((75/112)*100,2)\n",
    "print(\"Percentage of Female applicants whose application is approved: {}%\".format(female_Y))"
   ]
  },
  {
   "cell_type": "code",
   "execution_count": 257,
   "metadata": {
    "execution": {
     "iopub.execute_input": "2022-03-17T06:57:59.858255Z",
     "iopub.status.busy": "2022-03-17T06:57:59.857800Z",
     "iopub.status.idle": "2022-03-17T06:57:59.870104Z",
     "shell.execute_reply": "2022-03-17T06:57:59.869099Z",
     "shell.execute_reply.started": "2022-03-17T06:57:59.858226Z"
    }
   },
   "outputs": [
    {
     "name": "stdout",
     "output_type": "stream",
     "text": [
      "Percentage of Male applicants whose application is approved: 69.33%\n"
     ]
    }
   ],
   "source": [
    "male_Y = round((339/489)*100,2)\n",
    "print(\"Percentage of Male applicants whose application is approved: {}%\".format(male_Y))"
   ]
  },
  {
   "cell_type": "code",
   "execution_count": 258,
   "metadata": {
    "execution": {
     "iopub.execute_input": "2022-03-17T06:57:59.873473Z",
     "iopub.status.busy": "2022-03-17T06:57:59.872794Z",
     "iopub.status.idle": "2022-03-17T06:58:00.112892Z",
     "shell.execute_reply": "2022-03-17T06:58:00.110498Z",
     "shell.execute_reply.started": "2022-03-17T06:57:59.873425Z"
    }
   },
   "outputs": [
    {
     "data": {
      "image/png": "[encoded data removed]",
      "text/plain": [
       "<Figure size 432x360 with 1 Axes>"
      ]
     },
     "metadata": {},
     "output_type": "display_data"
    }
   ],
   "source": [
    "Gender.div(Gender.sum(1).astype(float), axis=0).plot(kind=\"bar\", stacked=True, figsize=(6,5))\n",
    "plt.legend(loc = 'upper left',bbox_to_anchor= (1,1),title='Loan_Status')\n",
    "plt.show()"
   ]
  },
  {
   "cell_type": "markdown",
   "metadata": {},
   "source": [
    "---\n",
    "###  It can be inferred that the proportion of male anf female applicants is more or less for both approved and unapproved loans.\n",
    "---"
   ]
  },
  {
   "cell_type": "code",
   "execution_count": 259,
   "metadata": {
    "execution": {
     "iopub.execute_input": "2022-03-17T06:58:00.114723Z",
     "iopub.status.busy": "2022-03-17T06:58:00.114416Z",
     "iopub.status.idle": "2022-03-17T06:58:00.346348Z",
     "shell.execute_reply": "2022-03-17T06:58:00.345244Z",
     "shell.execute_reply.started": "2022-03-17T06:58:00.114680Z"
    }
   },
   "outputs": [
    {
     "data": {
      "image/png": "[encoded data removed]",
      "text/plain": [
       "<Figure size 432x360 with 1 Axes>"
      ]
     },
     "metadata": {},
     "output_type": "display_data"
    }
   ],
   "source": [
    "Married=pd.crosstab(data['Married'], data['Loan_Status'])\n",
    "Married.div(Married.sum(1).astype(float), axis=0).plot(kind='bar',stacked=True,figsize=(6,5))\n",
    "plt.legend(bbox_to_anchor=(1,1),loc='upper left', title='Loan_Status')\n",
    "plt.show()"
   ]
  },
  {
   "cell_type": "markdown",
   "metadata": {},
   "source": [
    "---\n",
    "### Proportion of married applicants is higher for he approved loans.\n",
    "---"
   ]
  },
  {
   "cell_type": "code",
   "execution_count": 260,
   "metadata": {
    "execution": {
     "iopub.execute_input": "2022-03-17T06:58:00.349271Z",
     "iopub.status.busy": "2022-03-17T06:58:00.349007Z",
     "iopub.status.idle": "2022-03-17T06:58:00.600470Z",
     "shell.execute_reply": "2022-03-17T06:58:00.599634Z",
     "shell.execute_reply.started": "2022-03-17T06:58:00.349242Z"
    }
   },
   "outputs": [
    {
     "data": {
      "image/png": "[encoded data removed]",
      "text/plain": [
       "<Figure size 432x360 with 1 Axes>"
      ]
     },
     "metadata": {},
     "output_type": "display_data"
    }
   ],
   "source": [
    "Dependents=pd.crosstab(data['Dependents'], data['Loan_Status'])\n",
    "Dependents.div(Dependents.sum(1).astype(float), axis=0).plot(kind='bar',stacked=True,figsize=(6,5))\n",
    "plt.legend(bbox_to_anchor=(1,1),loc='upper left', title='Loan_Status')\n",
    "plt.show()"
   ]
  },
  {
   "cell_type": "markdown",
   "metadata": {},
   "source": [
    "---\n",
    "### Distribution of applicants with 1 or 3+ dependents is similar across both the categories of Loan_Status.\n",
    "---"
   ]
  },
  {
   "cell_type": "code",
   "execution_count": 261,
   "metadata": {
    "execution": {
     "iopub.execute_input": "2022-03-17T06:58:00.602785Z",
     "iopub.status.busy": "2022-03-17T06:58:00.602207Z",
     "iopub.status.idle": "2022-03-17T06:58:00.854474Z",
     "shell.execute_reply": "2022-03-17T06:58:00.853405Z",
     "shell.execute_reply.started": "2022-03-17T06:58:00.602741Z"
    }
   },
   "outputs": [
    {
     "data": {
      "image/png": "[encoded data removed]",
      "text/plain": [
       "<Figure size 432x360 with 1 Axes>"
      ]
     },
     "metadata": {},
     "output_type": "display_data"
    }
   ],
   "source": [
    "Self_Employed = pd.crosstab(data['Self_Employed'], data['Loan_Status'])\n",
    "Self_Employed.div(Self_Employed.sum(1).astype(float),axis=0).plot(kind='bar', stacked=True, figsize=(6,5))\n",
    "plt.legend(bbox_to_anchor=(1,1),loc='upper left',title='Loan_Status')\n",
    "plt.show()"
   ]
  },
  {
   "cell_type": "markdown",
   "metadata": {},
   "source": [
    "---\n",
    "### Proportion of graduate applicants is higher for the approved loans. This is obivous beccause Graudate applicants fail into the higher income bracket.\n",
    "---"
   ]
  },
  {
   "cell_type": "code",
   "execution_count": 262,
   "metadata": {
    "execution": {
     "iopub.execute_input": "2022-03-17T06:58:00.856263Z",
     "iopub.status.busy": "2022-03-17T06:58:00.856003Z",
     "iopub.status.idle": "2022-03-17T06:58:01.108086Z",
     "shell.execute_reply": "2022-03-17T06:58:01.107148Z",
     "shell.execute_reply.started": "2022-03-17T06:58:00.856233Z"
    }
   },
   "outputs": [
    {
     "data": {
      "image/png": "[encoded data removed]",
      "text/plain": [
       "<Figure size 432x360 with 1 Axes>"
      ]
     },
     "metadata": {},
     "output_type": "display_data"
    }
   ],
   "source": [
    "Credit_History = pd.crosstab(data['Credit_History'], data['Loan_Status'])\n",
    "Credit_History.div(Credit_History.sum(1).astype(float),axis=0).plot(kind='bar',stacked=True,figsize=(6,5))\n",
    "plt.legend(bbox_to_anchor=(1,1),loc='upper left',title='Loan_Status')\n",
    "plt.show()"
   ]
  },
  {
   "cell_type": "markdown",
   "metadata": {},
   "source": [
    "---\n",
    "### 1. It seems poeple with credit history as 1 are more likely to get their loans approved.\n",
    "### 2. Good credit history means good repayment capacity.\n",
    "---"
   ]
  },
  {
   "cell_type": "code",
   "execution_count": 263,
   "metadata": {
    "execution": {
     "iopub.execute_input": "2022-03-17T06:58:01.109511Z",
     "iopub.status.busy": "2022-03-17T06:58:01.109291Z",
     "iopub.status.idle": "2022-03-17T06:58:01.350726Z",
     "shell.execute_reply": "2022-03-17T06:58:01.349849Z",
     "shell.execute_reply.started": "2022-03-17T06:58:01.109484Z"
    }
   },
   "outputs": [
    {
     "data": {
      "image/png": "[encoded data removed]",
      "text/plain": [
       "<Figure size 432x360 with 1 Axes>"
      ]
     },
     "metadata": {},
     "output_type": "display_data"
    }
   ],
   "source": [
    "Property_Area = pd.crosstab(data['Property_Area'], data['Loan_Status'])\n",
    "Property_Area.div(Property_Area.sum(1).astype(float),axis=0).plot(kind='bar',stacked=True, figsize=(6,5))\n",
    "plt.legend(bbox_to_anchor=(1,1),loc='upper left', title='Loan_Status')\n",
    "plt.show()"
   ]
  },
  {
   "cell_type": "markdown",
   "metadata": {},
   "source": [
    "---\n",
    "### Proportion of loans getting approved in semiburn area is higher compared to that in rural or urban area.\n",
    "---"
   ]
  },
  {
   "cell_type": "markdown",
   "metadata": {},
   "source": [
    "## Numerical Independent Variable vs Target Variable\n",
    "**ApplicantIncome vs Loan_Status**\n",
    "\n",
    "We will try to find the mean income of people for which the loan has been approved vs the mean income of people for which the loan has not been approved."
   ]
  },
  {
   "cell_type": "code",
   "execution_count": 264,
   "metadata": {
    "execution": {
     "iopub.execute_input": "2022-03-17T06:58:01.352231Z",
     "iopub.status.busy": "2022-03-17T06:58:01.352011Z",
     "iopub.status.idle": "2022-03-17T06:58:01.370981Z",
     "shell.execute_reply": "2022-03-17T06:58:01.370049Z",
     "shell.execute_reply.started": "2022-03-17T06:58:01.352203Z"
    }
   },
   "outputs": [
    {
     "data": {
      "text/html": [
       "<div>\n",
       "<style scoped>\n",
       "    .dataframe tbody tr th:only-of-type {\n",
       "        vertical-align: middle;\n",
       "    }\n",
       "\n",
       "    .dataframe tbody tr th {\n",
       "        vertical-align: top;\n",
       "    }\n",
       "\n",
       "    .dataframe thead th {\n",
       "        text-align: right;\n",
       "    }\n",
       "</style>\n",
       "<table border=\"1\" class=\"dataframe\">\n",
       "  <thead>\n",
       "    <tr style=\"text-align: right;\">\n",
       "      <th></th>\n",
       "      <th>ApplicantIncome</th>\n",
       "      <th>CoapplicantIncome</th>\n",
       "      <th>LoanAmount</th>\n",
       "      <th>Loan_Amount_Term</th>\n",
       "      <th>Credit_History</th>\n",
       "    </tr>\n",
       "    <tr>\n",
       "      <th>Loan_Status</th>\n",
       "      <th></th>\n",
       "      <th></th>\n",
       "      <th></th>\n",
       "      <th></th>\n",
       "      <th></th>\n",
       "    </tr>\n",
       "  </thead>\n",
       "  <tbody>\n",
       "    <tr>\n",
       "      <th>N</th>\n",
       "      <td>5446.078125</td>\n",
       "      <td>1877.807292</td>\n",
       "      <td>151.220994</td>\n",
       "      <td>344.064516</td>\n",
       "      <td>0.541899</td>\n",
       "    </tr>\n",
       "    <tr>\n",
       "      <th>Y</th>\n",
       "      <td>5384.068720</td>\n",
       "      <td>1504.516398</td>\n",
       "      <td>144.294404</td>\n",
       "      <td>341.072464</td>\n",
       "      <td>0.981818</td>\n",
       "    </tr>\n",
       "  </tbody>\n",
       "</table>\n",
       "</div>"
      ],
      "text/plain": [
       "             ApplicantIncome  CoapplicantIncome  LoanAmount  Loan_Amount_Term  \\\n",
       "Loan_Status                                                                     \n",
       "N                5446.078125        1877.807292  151.220994        344.064516   \n",
       "Y                5384.068720        1504.516398  144.294404        341.072464   \n",
       "\n",
       "             Credit_History  \n",
       "Loan_Status                  \n",
       "N                  0.541899  \n",
       "Y                  0.981818  "
      ]
     },
     "execution_count": 264,
     "metadata": {},
     "output_type": "execute_result"
    }
   ],
   "source": [
    "data.groupby('Loan_Status').mean()"
   ]
  },
  {
   "cell_type": "code",
   "execution_count": 265,
   "metadata": {
    "execution": {
     "iopub.execute_input": "2022-03-17T06:58:01.377445Z",
     "iopub.status.busy": "2022-03-17T06:58:01.376741Z",
     "iopub.status.idle": "2022-03-17T06:58:01.668812Z",
     "shell.execute_reply": "2022-03-17T06:58:01.667933Z",
     "shell.execute_reply.started": "2022-03-17T06:58:01.377404Z"
    }
   },
   "outputs": [
    {
     "data": {
      "text/plain": [
       "<matplotlib.legend.Legend at 0x16be4716610>"
      ]
     },
     "execution_count": 265,
     "metadata": {},
     "output_type": "execute_result"
    },
    {
     "data": {
      "image/png": "[encoded data removed]",
      "text/plain": [
       "<Figure size 432x288 with 1 Axes>"
      ]
     },
     "metadata": {},
     "output_type": "display_data"
    }
   ],
   "source": [
    "data.groupby('Loan_Status').mean().plot.bar()\n",
    "plt.legend(bbox_to_anchor=(1,1),loc='upper left')"
   ]
  },
  {
   "cell_type": "markdown",
   "metadata": {},
   "source": [
    "**Let's make bins for the applicant income variable based on the values in in and analyze the corresponding loan statys for each bin.**"
   ]
  },
  {
   "cell_type": "code",
   "execution_count": 266,
   "metadata": {
    "execution": {
     "iopub.execute_input": "2022-03-17T06:58:01.670122Z",
     "iopub.status.busy": "2022-03-17T06:58:01.669874Z",
     "iopub.status.idle": "2022-03-17T06:58:01.678491Z",
     "shell.execute_reply": "2022-03-17T06:58:01.677449Z",
     "shell.execute_reply.started": "2022-03-17T06:58:01.670092Z"
    }
   },
   "outputs": [
    {
     "data": {
      "text/plain": [
       "Loan_Status\n",
       "N    5446.078125\n",
       "Y    5384.068720\n",
       "Name: ApplicantIncome, dtype: float64"
      ]
     },
     "execution_count": 266,
     "metadata": {},
     "output_type": "execute_result"
    }
   ],
   "source": [
    "data.groupby('Loan_Status')['ApplicantIncome'].mean()"
   ]
  },
  {
   "cell_type": "code",
   "execution_count": 267,
   "metadata": {
    "execution": {
     "iopub.execute_input": "2022-03-17T06:58:01.679728Z",
     "iopub.status.busy": "2022-03-17T06:58:01.679517Z",
     "iopub.status.idle": "2022-03-17T06:58:01.691569Z",
     "shell.execute_reply": "2022-03-17T06:58:01.690879Z",
     "shell.execute_reply.started": "2022-03-17T06:58:01.679702Z"
    }
   },
   "outputs": [],
   "source": [
    "bins = [0,2500,4000,6000,8100]\n",
    "groups = ['Low', 'Average', 'High', 'Very High']"
   ]
  },
  {
   "cell_type": "code",
   "execution_count": 268,
   "metadata": {
    "execution": {
     "iopub.execute_input": "2022-03-17T06:58:01.693852Z",
     "iopub.status.busy": "2022-03-17T06:58:01.692950Z",
     "iopub.status.idle": "2022-03-17T06:58:01.710727Z",
     "shell.execute_reply": "2022-03-17T06:58:01.709878Z",
     "shell.execute_reply.started": "2022-03-17T06:58:01.693801Z"
    }
   },
   "outputs": [
    {
     "data": {
      "text/plain": [
       "Loan_ID              0\n",
       "Gender               0\n",
       "Married              0\n",
       "Dependents           0\n",
       "Education            0\n",
       "Self_Employed        0\n",
       "ApplicantIncome      0\n",
       "CoapplicantIncome    0\n",
       "LoanAmount           0\n",
       "Loan_Amount_Term     0\n",
       "Credit_History       0\n",
       "Property_Area        0\n",
       "Loan_Status          0\n",
       "dtype: int64"
      ]
     },
     "execution_count": 268,
     "metadata": {},
     "output_type": "execute_result"
    }
   ],
   "source": [
    "df.head(3) # dataframe without nan values\n",
    "df.isna().sum()"
   ]
  },
  {
   "cell_type": "code",
   "execution_count": 269,
   "metadata": {
    "execution": {
     "iopub.execute_input": "2022-03-17T06:58:01.712999Z",
     "iopub.status.busy": "2022-03-17T06:58:01.712484Z",
     "iopub.status.idle": "2022-03-17T06:58:01.725804Z",
     "shell.execute_reply": "2022-03-17T06:58:01.725118Z",
     "shell.execute_reply.started": "2022-03-17T06:58:01.712946Z"
    }
   },
   "outputs": [],
   "source": [
    "data['Income_groups'] = pd.cut(df['ApplicantIncome'],bins=bins,labels=groups)"
   ]
  },
  {
   "cell_type": "code",
   "execution_count": 270,
   "metadata": {
    "execution": {
     "iopub.execute_input": "2022-03-17T06:58:01.728480Z",
     "iopub.status.busy": "2022-03-17T06:58:01.727749Z",
     "iopub.status.idle": "2022-03-17T06:58:01.754077Z",
     "shell.execute_reply": "2022-03-17T06:58:01.753089Z",
     "shell.execute_reply.started": "2022-03-17T06:58:01.728439Z"
    }
   },
   "outputs": [
    {
     "data": {
      "text/html": [
       "<div>\n",
       "<style scoped>\n",
       "    .dataframe tbody tr th:only-of-type {\n",
       "        vertical-align: middle;\n",
       "    }\n",
       "\n",
       "    .dataframe tbody tr th {\n",
       "        vertical-align: top;\n",
       "    }\n",
       "\n",
       "    .dataframe thead th {\n",
       "        text-align: right;\n",
       "    }\n",
       "</style>\n",
       "<table border=\"1\" class=\"dataframe\">\n",
       "  <thead>\n",
       "    <tr style=\"text-align: right;\">\n",
       "      <th></th>\n",
       "      <th>Loan_ID</th>\n",
       "      <th>Gender</th>\n",
       "      <th>Married</th>\n",
       "      <th>Dependents</th>\n",
       "      <th>Education</th>\n",
       "      <th>Self_Employed</th>\n",
       "      <th>ApplicantIncome</th>\n",
       "      <th>CoapplicantIncome</th>\n",
       "      <th>LoanAmount</th>\n",
       "      <th>Loan_Amount_Term</th>\n",
       "      <th>Credit_History</th>\n",
       "      <th>Property_Area</th>\n",
       "      <th>Loan_Status</th>\n",
       "      <th>Income_groups</th>\n",
       "    </tr>\n",
       "  </thead>\n",
       "  <tbody>\n",
       "    <tr>\n",
       "      <th>0</th>\n",
       "      <td>LP001002</td>\n",
       "      <td>Male</td>\n",
       "      <td>No</td>\n",
       "      <td>0</td>\n",
       "      <td>Graduate</td>\n",
       "      <td>No</td>\n",
       "      <td>5849</td>\n",
       "      <td>0.0</td>\n",
       "      <td>NaN</td>\n",
       "      <td>360.0</td>\n",
       "      <td>1.0</td>\n",
       "      <td>Urban</td>\n",
       "      <td>Y</td>\n",
       "      <td>NaN</td>\n",
       "    </tr>\n",
       "    <tr>\n",
       "      <th>1</th>\n",
       "      <td>LP001003</td>\n",
       "      <td>Male</td>\n",
       "      <td>Yes</td>\n",
       "      <td>1</td>\n",
       "      <td>Graduate</td>\n",
       "      <td>No</td>\n",
       "      <td>4583</td>\n",
       "      <td>1508.0</td>\n",
       "      <td>128.0</td>\n",
       "      <td>360.0</td>\n",
       "      <td>1.0</td>\n",
       "      <td>Rural</td>\n",
       "      <td>N</td>\n",
       "      <td>High</td>\n",
       "    </tr>\n",
       "    <tr>\n",
       "      <th>2</th>\n",
       "      <td>LP001005</td>\n",
       "      <td>Male</td>\n",
       "      <td>Yes</td>\n",
       "      <td>0</td>\n",
       "      <td>Graduate</td>\n",
       "      <td>Yes</td>\n",
       "      <td>3000</td>\n",
       "      <td>0.0</td>\n",
       "      <td>66.0</td>\n",
       "      <td>360.0</td>\n",
       "      <td>1.0</td>\n",
       "      <td>Urban</td>\n",
       "      <td>Y</td>\n",
       "      <td>Average</td>\n",
       "    </tr>\n",
       "    <tr>\n",
       "      <th>3</th>\n",
       "      <td>LP001006</td>\n",
       "      <td>Male</td>\n",
       "      <td>Yes</td>\n",
       "      <td>0</td>\n",
       "      <td>Not Graduate</td>\n",
       "      <td>No</td>\n",
       "      <td>2583</td>\n",
       "      <td>2358.0</td>\n",
       "      <td>120.0</td>\n",
       "      <td>360.0</td>\n",
       "      <td>1.0</td>\n",
       "      <td>Urban</td>\n",
       "      <td>Y</td>\n",
       "      <td>Average</td>\n",
       "    </tr>\n",
       "    <tr>\n",
       "      <th>4</th>\n",
       "      <td>LP001008</td>\n",
       "      <td>Male</td>\n",
       "      <td>No</td>\n",
       "      <td>0</td>\n",
       "      <td>Graduate</td>\n",
       "      <td>No</td>\n",
       "      <td>6000</td>\n",
       "      <td>0.0</td>\n",
       "      <td>141.0</td>\n",
       "      <td>360.0</td>\n",
       "      <td>1.0</td>\n",
       "      <td>Urban</td>\n",
       "      <td>Y</td>\n",
       "      <td>High</td>\n",
       "    </tr>\n",
       "  </tbody>\n",
       "</table>\n",
       "</div>"
      ],
      "text/plain": [
       "    Loan_ID Gender Married Dependents     Education Self_Employed  \\\n",
       "0  LP001002   Male      No          0      Graduate            No   \n",
       "1  LP001003   Male     Yes          1      Graduate            No   \n",
       "2  LP001005   Male     Yes          0      Graduate           Yes   \n",
       "3  LP001006   Male     Yes          0  Not Graduate            No   \n",
       "4  LP001008   Male      No          0      Graduate            No   \n",
       "\n",
       "   ApplicantIncome  CoapplicantIncome  LoanAmount  Loan_Amount_Term  \\\n",
       "0             5849                0.0         NaN             360.0   \n",
       "1             4583             1508.0       128.0             360.0   \n",
       "2             3000                0.0        66.0             360.0   \n",
       "3             2583             2358.0       120.0             360.0   \n",
       "4             6000                0.0       141.0             360.0   \n",
       "\n",
       "   Credit_History Property_Area Loan_Status Income_groups  \n",
       "0             1.0         Urban           Y           NaN  \n",
       "1             1.0         Rural           N          High  \n",
       "2             1.0         Urban           Y       Average  \n",
       "3             1.0         Urban           Y       Average  \n",
       "4             1.0         Urban           Y          High  "
      ]
     },
     "execution_count": 270,
     "metadata": {},
     "output_type": "execute_result"
    }
   ],
   "source": [
    "data.head()"
   ]
  },
  {
   "cell_type": "code",
   "execution_count": 271,
   "metadata": {
    "execution": {
     "iopub.execute_input": "2022-03-17T06:58:01.756304Z",
     "iopub.status.busy": "2022-03-17T06:58:01.755792Z",
     "iopub.status.idle": "2022-03-17T06:58:01.770769Z",
     "shell.execute_reply": "2022-03-17T06:58:01.770097Z",
     "shell.execute_reply.started": "2022-03-17T06:58:01.756259Z"
    }
   },
   "outputs": [
    {
     "data": {
      "text/plain": [
       "Average      174\n",
       "High         111\n",
       "Low           83\n",
       "Very High     44\n",
       "Name: Income_groups, dtype: int64"
      ]
     },
     "execution_count": 271,
     "metadata": {},
     "output_type": "execute_result"
    }
   ],
   "source": [
    "data['Income_groups'].value_counts()"
   ]
  },
  {
   "cell_type": "code",
   "execution_count": 272,
   "metadata": {
    "execution": {
     "iopub.execute_input": "2022-03-17T06:58:01.773396Z",
     "iopub.status.busy": "2022-03-17T06:58:01.773082Z",
     "iopub.status.idle": "2022-03-17T06:58:01.791043Z",
     "shell.execute_reply": "2022-03-17T06:58:01.789944Z",
     "shell.execute_reply.started": "2022-03-17T06:58:01.773354Z"
    }
   },
   "outputs": [
    {
     "data": {
      "text/html": [
       "<div>\n",
       "<style scoped>\n",
       "    .dataframe tbody tr th:only-of-type {\n",
       "        vertical-align: middle;\n",
       "    }\n",
       "\n",
       "    .dataframe tbody tr th {\n",
       "        vertical-align: top;\n",
       "    }\n",
       "\n",
       "    .dataframe thead th {\n",
       "        text-align: right;\n",
       "    }\n",
       "</style>\n",
       "<table border=\"1\" class=\"dataframe\">\n",
       "  <thead>\n",
       "    <tr style=\"text-align: right;\">\n",
       "      <th></th>\n",
       "      <th>ApplicantIncome</th>\n",
       "      <th>Income_groups</th>\n",
       "      <th>Loan_Status</th>\n",
       "    </tr>\n",
       "  </thead>\n",
       "  <tbody>\n",
       "    <tr>\n",
       "      <th>0</th>\n",
       "      <td>5849</td>\n",
       "      <td>NaN</td>\n",
       "      <td>Y</td>\n",
       "    </tr>\n",
       "    <tr>\n",
       "      <th>1</th>\n",
       "      <td>4583</td>\n",
       "      <td>High</td>\n",
       "      <td>N</td>\n",
       "    </tr>\n",
       "    <tr>\n",
       "      <th>2</th>\n",
       "      <td>3000</td>\n",
       "      <td>Average</td>\n",
       "      <td>Y</td>\n",
       "    </tr>\n",
       "    <tr>\n",
       "      <th>3</th>\n",
       "      <td>2583</td>\n",
       "      <td>Average</td>\n",
       "      <td>Y</td>\n",
       "    </tr>\n",
       "  </tbody>\n",
       "</table>\n",
       "</div>"
      ],
      "text/plain": [
       "   ApplicantIncome Income_groups Loan_Status\n",
       "0             5849           NaN           Y\n",
       "1             4583          High           N\n",
       "2             3000       Average           Y\n",
       "3             2583       Average           Y"
      ]
     },
     "execution_count": 272,
     "metadata": {},
     "output_type": "execute_result"
    }
   ],
   "source": [
    "data[['ApplicantIncome', 'Income_groups', 'Loan_Status']].head(n=4)"
   ]
  },
  {
   "cell_type": "code",
   "execution_count": 273,
   "metadata": {
    "execution": {
     "iopub.execute_input": "2022-03-17T06:58:01.793056Z",
     "iopub.status.busy": "2022-03-17T06:58:01.792272Z",
     "iopub.status.idle": "2022-03-17T06:58:01.818267Z",
     "shell.execute_reply": "2022-03-17T06:58:01.817373Z",
     "shell.execute_reply.started": "2022-03-17T06:58:01.792990Z"
    }
   },
   "outputs": [
    {
     "data": {
      "text/html": [
       "<div>\n",
       "<style scoped>\n",
       "    .dataframe tbody tr th:only-of-type {\n",
       "        vertical-align: middle;\n",
       "    }\n",
       "\n",
       "    .dataframe tbody tr th {\n",
       "        vertical-align: top;\n",
       "    }\n",
       "\n",
       "    .dataframe thead th {\n",
       "        text-align: right;\n",
       "    }\n",
       "</style>\n",
       "<table border=\"1\" class=\"dataframe\">\n",
       "  <thead>\n",
       "    <tr style=\"text-align: right;\">\n",
       "      <th>Loan_Status</th>\n",
       "      <th>N</th>\n",
       "      <th>Y</th>\n",
       "    </tr>\n",
       "    <tr>\n",
       "      <th>Income_groups</th>\n",
       "      <th></th>\n",
       "      <th></th>\n",
       "    </tr>\n",
       "  </thead>\n",
       "  <tbody>\n",
       "    <tr>\n",
       "      <th>Low</th>\n",
       "      <td>26</td>\n",
       "      <td>57</td>\n",
       "    </tr>\n",
       "    <tr>\n",
       "      <th>Average</th>\n",
       "      <td>51</td>\n",
       "      <td>123</td>\n",
       "    </tr>\n",
       "    <tr>\n",
       "      <th>High</th>\n",
       "      <td>32</td>\n",
       "      <td>79</td>\n",
       "    </tr>\n",
       "    <tr>\n",
       "      <th>Very High</th>\n",
       "      <td>15</td>\n",
       "      <td>29</td>\n",
       "    </tr>\n",
       "  </tbody>\n",
       "</table>\n",
       "</div>"
      ],
      "text/plain": [
       "Loan_Status     N    Y\n",
       "Income_groups         \n",
       "Low            26   57\n",
       "Average        51  123\n",
       "High           32   79\n",
       "Very High      15   29"
      ]
     },
     "execution_count": 273,
     "metadata": {},
     "output_type": "execute_result"
    }
   ],
   "source": [
    "# Pandas Crosstab function drops the NaN values by default\n",
    "Income_groups = pd.crosstab(index=data['Income_groups'],columns=data['Loan_Status'])\n",
    "Income_groups"
   ]
  },
  {
   "cell_type": "code",
   "execution_count": 274,
   "metadata": {
    "execution": {
     "iopub.execute_input": "2022-03-17T06:58:01.819720Z",
     "iopub.status.busy": "2022-03-17T06:58:01.819219Z",
     "iopub.status.idle": "2022-03-17T06:58:02.073740Z",
     "shell.execute_reply": "2022-03-17T06:58:02.072951Z",
     "shell.execute_reply.started": "2022-03-17T06:58:01.819691Z"
    }
   },
   "outputs": [
    {
     "data": {
      "image/png": "[encoded data removed]",
      "text/plain": [
       "<Figure size 432x360 with 1 Axes>"
      ]
     },
     "metadata": {},
     "output_type": "display_data"
    }
   ],
   "source": [
    "Income_groups.div(Income_groups.sum(1).astype(float), axis=0).plot(kind='bar',stacked=True, figsize=(6,5))\n",
    "plt.xlabel('ApplicantIncome')\n",
    "plt.ylabel('Percentage')\n",
    "plt.legend(loc='upper left', bbox_to_anchor=(1,1),title='Loan_Status')\n",
    "plt.show()"
   ]
  },
  {
   "cell_type": "markdown",
   "metadata": {},
   "source": [
    "---\n",
    "### We can see that Applicant Income does not affect the chances of loan approval which contradict our hypothesis in which we assumed that is the applicant income is hight the chances of gettig loan approval will also be high.\n",
    "\n",
    "- Ho = Higher the Applicant Income higher chance of getting loan approval.(Null Hypothesis)\n",
    "\n",
    "- Ha = Income will not affect the loan approval.(Alternate Hypothesis)\n",
    "\n",
    "So, we are rejecting our **NULL HYPOTHESIS**\n",
    "\n",
    "---"
   ]
  },
  {
   "cell_type": "markdown",
   "metadata": {},
   "source": [
    "**Let's check same for the Coapplicant Income.**"
   ]
  },
  {
   "cell_type": "code",
   "execution_count": 275,
   "metadata": {
    "execution": {
     "iopub.execute_input": "2022-03-17T06:58:02.075755Z",
     "iopub.status.busy": "2022-03-17T06:58:02.075276Z",
     "iopub.status.idle": "2022-03-17T06:58:02.089470Z",
     "shell.execute_reply": "2022-03-17T06:58:02.088719Z",
     "shell.execute_reply.started": "2022-03-17T06:58:02.075702Z"
    }
   },
   "outputs": [
    {
     "data": {
      "text/plain": [
       "Average    169\n",
       "High        37\n",
       "Low         18\n",
       "Name: coapplicant_income_groups, dtype: int64"
      ]
     },
     "execution_count": 275,
     "metadata": {},
     "output_type": "execute_result"
    }
   ],
   "source": [
    "bins = [0,1000,3000,4200]\n",
    "groups = ['Low', 'Average', 'High']\n",
    "data['coapplicant_income_groups'] = pd.cut(df['CoapplicantIncome'],bins,labels=groups)\n",
    "data['coapplicant_income_groups'].value_counts()"
   ]
  },
  {
   "cell_type": "code",
   "execution_count": 276,
   "metadata": {
    "execution": {
     "iopub.execute_input": "2022-03-17T06:58:02.091167Z",
     "iopub.status.busy": "2022-03-17T06:58:02.090654Z",
     "iopub.status.idle": "2022-03-17T06:58:02.337702Z",
     "shell.execute_reply": "2022-03-17T06:58:02.336802Z",
     "shell.execute_reply.started": "2022-03-17T06:58:02.091121Z"
    }
   },
   "outputs": [
    {
     "data": {
      "image/png": "[encoded data removed]",
      "text/plain": [
       "<Figure size 432x360 with 1 Axes>"
      ]
     },
     "metadata": {},
     "output_type": "display_data"
    }
   ],
   "source": [
    "Coapplicant_income_groups = pd.crosstab(index=data['coapplicant_income_groups'],columns=data['Loan_Status'])\n",
    "Coapplicant_income_groups.div(Coapplicant_income_groups.sum(1).astype(float),axis=0).plot(kind='bar',stacked=True,figsize=(6,5))\n",
    "plt.xlabel('CoapplicantIncome')\n",
    "plt.ylabel('Percentage')\n",
    "plt.legend(loc='upper left',bbox_to_anchor=(1,1),title='Loan_Status')\n",
    "plt.show()"
   ]
  },
  {
   "cell_type": "markdown",
   "metadata": {},
   "source": [
    "---\n",
    "### It shows that if appliceant's income is less then chances of loan approval is high. But this does not look right. The possible reason behind this may be that most of the applicants don't have any coapplicant so the coapplicant income for such applicants is 0 and hence the loan approval is not dependent on it. So we can make a new variable in which we will combine the applicant's and coapplicant's income to visualize the combined effect of income on loan approval.\n",
    "---"
   ]
  },
  {
   "cell_type": "code",
   "execution_count": 277,
   "metadata": {
    "execution": {
     "iopub.execute_input": "2022-03-17T06:58:02.339106Z",
     "iopub.status.busy": "2022-03-17T06:58:02.338890Z",
     "iopub.status.idle": "2022-03-17T06:58:02.344627Z",
     "shell.execute_reply": "2022-03-17T06:58:02.343663Z",
     "shell.execute_reply.started": "2022-03-17T06:58:02.339079Z"
    }
   },
   "outputs": [],
   "source": [
    "data['Total_Income'] = data['ApplicantIncome'] + data['CoapplicantIncome']"
   ]
  },
  {
   "cell_type": "code",
   "execution_count": 278,
   "metadata": {
    "execution": {
     "iopub.execute_input": "2022-03-17T06:58:02.346339Z",
     "iopub.status.busy": "2022-03-17T06:58:02.346106Z",
     "iopub.status.idle": "2022-03-17T06:58:02.614761Z",
     "shell.execute_reply": "2022-03-17T06:58:02.613937Z",
     "shell.execute_reply.started": "2022-03-17T06:58:02.346308Z"
    }
   },
   "outputs": [
    {
     "data": {
      "image/png": "[encoded data removed]",
      "text/plain": [
       "<Figure size 432x360 with 1 Axes>"
      ]
     },
     "metadata": {},
     "output_type": "display_data"
    }
   ],
   "source": [
    "bins=[0,2500,4000,6000,81000]\n",
    "group=['Low','Average','High','Very high']\n",
    "data['Total_Income_groups']=pd.cut(data['Total_Income'],bins,labels=group)\n",
    "Total_Income_groups=pd.crosstab(index=data['Total_Income_groups'],columns=data['Loan_Status'])\n",
    "Total_Income_groups.div(Total_Income_groups.sum(1).astype(float), axis=0).plot(kind='bar', stacked=True,figsize=(6,5))\n",
    "plt.xlabel('Total_Income') \n",
    "P = plt.ylabel('Percentage')\n",
    "plt.legend(loc='upper left',bbox_to_anchor=(1,1),title='Loan_Status')\n",
    "plt.show()"
   ]
  },
  {
   "cell_type": "markdown",
   "metadata": {},
   "source": [
    "---\n",
    "### We can now see that proportion of loans getting approved for applicants having low Total_Income is very less as compared to that of applicants with Average, High and Very High Income.\n",
    "---"
   ]
  },
  {
   "cell_type": "markdown",
   "metadata": {},
   "source": [
    "## LoanAmount vs Loan_Status"
   ]
  },
  {
   "cell_type": "code",
   "execution_count": 279,
   "metadata": {
    "execution": {
     "iopub.execute_input": "2022-03-17T06:58:02.616240Z",
     "iopub.status.busy": "2022-03-17T06:58:02.616000Z",
     "iopub.status.idle": "2022-03-17T06:58:02.622721Z",
     "shell.execute_reply": "2022-03-17T06:58:02.621804Z",
     "shell.execute_reply.started": "2022-03-17T06:58:02.616212Z"
    }
   },
   "outputs": [
    {
     "data": {
      "text/plain": [
       "22"
      ]
     },
     "execution_count": 279,
     "metadata": {},
     "output_type": "execute_result"
    }
   ],
   "source": [
    "data['LoanAmount'].isnull().sum()"
   ]
  },
  {
   "cell_type": "code",
   "execution_count": 280,
   "metadata": {
    "execution": {
     "iopub.execute_input": "2022-03-17T06:58:02.624221Z",
     "iopub.status.busy": "2022-03-17T06:58:02.623982Z",
     "iopub.status.idle": "2022-03-17T06:58:02.640154Z",
     "shell.execute_reply": "2022-03-17T06:58:02.639379Z",
     "shell.execute_reply.started": "2022-03-17T06:58:02.624193Z"
    }
   },
   "outputs": [
    {
     "data": {
      "text/plain": [
       "count    592.000000\n",
       "mean     146.412162\n",
       "std       85.587325\n",
       "min        9.000000\n",
       "25%      100.000000\n",
       "50%      128.000000\n",
       "75%      168.000000\n",
       "max      700.000000\n",
       "Name: LoanAmount, dtype: float64"
      ]
     },
     "execution_count": 280,
     "metadata": {},
     "output_type": "execute_result"
    }
   ],
   "source": [
    "data['LoanAmount'].describe()"
   ]
  },
  {
   "cell_type": "code",
   "execution_count": 281,
   "metadata": {
    "execution": {
     "iopub.execute_input": "2022-03-17T06:58:02.642186Z",
     "iopub.status.busy": "2022-03-17T06:58:02.641418Z",
     "iopub.status.idle": "2022-03-17T06:58:02.889338Z",
     "shell.execute_reply": "2022-03-17T06:58:02.888655Z",
     "shell.execute_reply.started": "2022-03-17T06:58:02.642145Z"
    }
   },
   "outputs": [
    {
     "data": {
      "image/png": "[encoded data removed]",
      "text/plain": [
       "<Figure size 432x360 with 1 Axes>"
      ]
     },
     "metadata": {},
     "output_type": "display_data"
    }
   ],
   "source": [
    "bins=[0,100,200,700]\n",
    "groups=['Low','Average','High']\n",
    "data['LoanAmount_groups'] = pd.cut(x=df['LoanAmount'],bins=bins,labels=groups)\n",
    "LoanAmount_groups = pd.crosstab(index=data['LoanAmount_groups'],columns=data['Loan_Status'])\n",
    "LoanAmount_groups.div(LoanAmount_groups.sum(1).astype(float),axis=0).plot(kind='bar',stacked=True,figsize=(6,5))\n",
    "plt.legend(loc='upper left',bbox_to_anchor=(1,1),title='Loan_Status')\n",
    "plt.xlabel('LoanAmount')\n",
    "p=plt.ylabel('Percentage')\n",
    "plt.show()"
   ]
  },
  {
   "cell_type": "markdown",
   "metadata": {},
   "source": [
    "---\n",
    "### It can be inferred that the proportions of Loan Approval is higher for the Low & Average Loan Amount as compared to higher Loan Amount which supports our hypothesis in which we considered that the chances of loan approval will be high when the loan amount is less.\n",
    "---"
   ]
  },
  {
   "cell_type": "markdown",
   "metadata": {},
   "source": [
    "# Data Cleaning and preparation."
   ]
  },
  {
   "cell_type": "code",
   "execution_count": 282,
   "metadata": {
    "execution": {
     "iopub.execute_input": "2022-03-17T06:58:02.890734Z",
     "iopub.status.busy": "2022-03-17T06:58:02.890411Z",
     "iopub.status.idle": "2022-03-17T06:58:02.896417Z",
     "shell.execute_reply": "2022-03-17T06:58:02.895530Z",
     "shell.execute_reply.started": "2022-03-17T06:58:02.890705Z"
    }
   },
   "outputs": [
    {
     "data": {
      "text/plain": [
       "Index(['Loan_ID', 'Gender', 'Married', 'Dependents', 'Education',\n",
       "       'Self_Employed', 'ApplicantIncome', 'CoapplicantIncome', 'LoanAmount',\n",
       "       'Loan_Amount_Term', 'Credit_History', 'Property_Area', 'Loan_Status',\n",
       "       'Income_groups', 'coapplicant_income_groups', 'Total_Income',\n",
       "       'Total_Income_groups', 'LoanAmount_groups'],\n",
       "      dtype='object')"
      ]
     },
     "execution_count": 282,
     "metadata": {},
     "output_type": "execute_result"
    }
   ],
   "source": [
    "data.columns"
   ]
  },
  {
   "cell_type": "code",
   "execution_count": 283,
   "metadata": {
    "execution": {
     "iopub.execute_input": "2022-03-17T06:58:02.897907Z",
     "iopub.status.busy": "2022-03-17T06:58:02.897638Z",
     "iopub.status.idle": "2022-03-17T06:58:02.911016Z",
     "shell.execute_reply": "2022-03-17T06:58:02.910088Z",
     "shell.execute_reply.started": "2022-03-17T06:58:02.897855Z"
    }
   },
   "outputs": [],
   "source": [
    "data = data.drop(labels=['Income_groups', 'coapplicant_income_groups','Total_Income','Total_Income_groups','LoanAmount_groups'],axis=1)"
   ]
  },
  {
   "cell_type": "code",
   "execution_count": 284,
   "metadata": {
    "execution": {
     "iopub.execute_input": "2022-03-17T06:58:02.912776Z",
     "iopub.status.busy": "2022-03-17T06:58:02.912464Z",
     "iopub.status.idle": "2022-03-17T06:58:02.937259Z",
     "shell.execute_reply": "2022-03-17T06:58:02.936559Z",
     "shell.execute_reply.started": "2022-03-17T06:58:02.912735Z"
    }
   },
   "outputs": [
    {
     "data": {
      "text/html": [
       "<div>\n",
       "<style scoped>\n",
       "    .dataframe tbody tr th:only-of-type {\n",
       "        vertical-align: middle;\n",
       "    }\n",
       "\n",
       "    .dataframe tbody tr th {\n",
       "        vertical-align: top;\n",
       "    }\n",
       "\n",
       "    .dataframe thead th {\n",
       "        text-align: right;\n",
       "    }\n",
       "</style>\n",
       "<table border=\"1\" class=\"dataframe\">\n",
       "  <thead>\n",
       "    <tr style=\"text-align: right;\">\n",
       "      <th></th>\n",
       "      <th>Loan_ID</th>\n",
       "      <th>Gender</th>\n",
       "      <th>Married</th>\n",
       "      <th>Dependents</th>\n",
       "      <th>Education</th>\n",
       "      <th>Self_Employed</th>\n",
       "      <th>ApplicantIncome</th>\n",
       "      <th>CoapplicantIncome</th>\n",
       "      <th>LoanAmount</th>\n",
       "      <th>Loan_Amount_Term</th>\n",
       "      <th>Credit_History</th>\n",
       "      <th>Property_Area</th>\n",
       "      <th>Loan_Status</th>\n",
       "    </tr>\n",
       "  </thead>\n",
       "  <tbody>\n",
       "    <tr>\n",
       "      <th>0</th>\n",
       "      <td>LP001002</td>\n",
       "      <td>Male</td>\n",
       "      <td>No</td>\n",
       "      <td>0</td>\n",
       "      <td>Graduate</td>\n",
       "      <td>No</td>\n",
       "      <td>5849</td>\n",
       "      <td>0.0</td>\n",
       "      <td>NaN</td>\n",
       "      <td>360.0</td>\n",
       "      <td>1.0</td>\n",
       "      <td>Urban</td>\n",
       "      <td>Y</td>\n",
       "    </tr>\n",
       "    <tr>\n",
       "      <th>1</th>\n",
       "      <td>LP001003</td>\n",
       "      <td>Male</td>\n",
       "      <td>Yes</td>\n",
       "      <td>1</td>\n",
       "      <td>Graduate</td>\n",
       "      <td>No</td>\n",
       "      <td>4583</td>\n",
       "      <td>1508.0</td>\n",
       "      <td>128.0</td>\n",
       "      <td>360.0</td>\n",
       "      <td>1.0</td>\n",
       "      <td>Rural</td>\n",
       "      <td>N</td>\n",
       "    </tr>\n",
       "    <tr>\n",
       "      <th>2</th>\n",
       "      <td>LP001005</td>\n",
       "      <td>Male</td>\n",
       "      <td>Yes</td>\n",
       "      <td>0</td>\n",
       "      <td>Graduate</td>\n",
       "      <td>Yes</td>\n",
       "      <td>3000</td>\n",
       "      <td>0.0</td>\n",
       "      <td>66.0</td>\n",
       "      <td>360.0</td>\n",
       "      <td>1.0</td>\n",
       "      <td>Urban</td>\n",
       "      <td>Y</td>\n",
       "    </tr>\n",
       "    <tr>\n",
       "      <th>3</th>\n",
       "      <td>LP001006</td>\n",
       "      <td>Male</td>\n",
       "      <td>Yes</td>\n",
       "      <td>0</td>\n",
       "      <td>Not Graduate</td>\n",
       "      <td>No</td>\n",
       "      <td>2583</td>\n",
       "      <td>2358.0</td>\n",
       "      <td>120.0</td>\n",
       "      <td>360.0</td>\n",
       "      <td>1.0</td>\n",
       "      <td>Urban</td>\n",
       "      <td>Y</td>\n",
       "    </tr>\n",
       "    <tr>\n",
       "      <th>4</th>\n",
       "      <td>LP001008</td>\n",
       "      <td>Male</td>\n",
       "      <td>No</td>\n",
       "      <td>0</td>\n",
       "      <td>Graduate</td>\n",
       "      <td>No</td>\n",
       "      <td>6000</td>\n",
       "      <td>0.0</td>\n",
       "      <td>141.0</td>\n",
       "      <td>360.0</td>\n",
       "      <td>1.0</td>\n",
       "      <td>Urban</td>\n",
       "      <td>Y</td>\n",
       "    </tr>\n",
       "  </tbody>\n",
       "</table>\n",
       "</div>"
      ],
      "text/plain": [
       "    Loan_ID Gender Married Dependents     Education Self_Employed  \\\n",
       "0  LP001002   Male      No          0      Graduate            No   \n",
       "1  LP001003   Male     Yes          1      Graduate            No   \n",
       "2  LP001005   Male     Yes          0      Graduate           Yes   \n",
       "3  LP001006   Male     Yes          0  Not Graduate            No   \n",
       "4  LP001008   Male      No          0      Graduate            No   \n",
       "\n",
       "   ApplicantIncome  CoapplicantIncome  LoanAmount  Loan_Amount_Term  \\\n",
       "0             5849                0.0         NaN             360.0   \n",
       "1             4583             1508.0       128.0             360.0   \n",
       "2             3000                0.0        66.0             360.0   \n",
       "3             2583             2358.0       120.0             360.0   \n",
       "4             6000                0.0       141.0             360.0   \n",
       "\n",
       "   Credit_History Property_Area Loan_Status  \n",
       "0             1.0         Urban           Y  \n",
       "1             1.0         Rural           N  \n",
       "2             1.0         Urban           Y  \n",
       "3             1.0         Urban           Y  \n",
       "4             1.0         Urban           Y  "
      ]
     },
     "execution_count": 284,
     "metadata": {},
     "output_type": "execute_result"
    }
   ],
   "source": [
    "data.head()"
   ]
  },
  {
   "cell_type": "markdown",
   "metadata": {},
   "source": [
    "### We will change the values '3+' in 'Dependents' variable to 3 to make it a numerical variable. We will make this change in both train and test sets."
   ]
  },
  {
   "cell_type": "code",
   "execution_count": 285,
   "metadata": {
    "execution": {
     "iopub.execute_input": "2022-03-17T06:58:02.939291Z",
     "iopub.status.busy": "2022-03-17T06:58:02.938481Z",
     "iopub.status.idle": "2022-03-17T06:58:02.952836Z",
     "shell.execute_reply": "2022-03-17T06:58:02.952094Z",
     "shell.execute_reply.started": "2022-03-17T06:58:02.939254Z"
    }
   },
   "outputs": [
    {
     "data": {
      "text/plain": [
       "0     345\n",
       "1     102\n",
       "2     101\n",
       "3+     51\n",
       "Name: Dependents, dtype: int64"
      ]
     },
     "execution_count": 285,
     "metadata": {},
     "output_type": "execute_result"
    }
   ],
   "source": [
    "data['Dependents'].value_counts()"
   ]
  },
  {
   "cell_type": "code",
   "execution_count": 286,
   "metadata": {
    "execution": {
     "iopub.execute_input": "2022-03-17T06:58:02.954743Z",
     "iopub.status.busy": "2022-03-17T06:58:02.954517Z",
     "iopub.status.idle": "2022-03-17T06:58:02.963517Z",
     "shell.execute_reply": "2022-03-17T06:58:02.962686Z",
     "shell.execute_reply.started": "2022-03-17T06:58:02.954718Z"
    }
   },
   "outputs": [],
   "source": [
    "# data['Dependents'].replace('3+',3,inplace=True)"
   ]
  },
  {
   "cell_type": "code",
   "execution_count": 287,
   "metadata": {
    "execution": {
     "iopub.execute_input": "2022-03-17T06:58:02.965493Z",
     "iopub.status.busy": "2022-03-17T06:58:02.965158Z",
     "iopub.status.idle": "2022-03-17T06:58:02.981637Z",
     "shell.execute_reply": "2022-03-17T06:58:02.980730Z",
     "shell.execute_reply.started": "2022-03-17T06:58:02.965450Z"
    }
   },
   "outputs": [
    {
     "data": {
      "text/plain": [
       "0     345\n",
       "1     102\n",
       "2     101\n",
       "3+     51\n",
       "Name: Dependents, dtype: int64"
      ]
     },
     "execution_count": 287,
     "metadata": {},
     "output_type": "execute_result"
    }
   ],
   "source": [
    "data['Dependents'].value_counts()"
   ]
  },
  {
   "cell_type": "markdown",
   "metadata": {},
   "source": [
    "### We will convert target variable's ('Loan Status') categories into 0 and 1 so that we can find its correlation with numerical varibales\n",
    "\n",
    "- We will replace N with 0 and Y with 1.\n"
   ]
  },
  {
   "cell_type": "code",
   "execution_count": 288,
   "metadata": {
    "execution": {
     "iopub.execute_input": "2022-03-17T06:58:02.984654Z",
     "iopub.status.busy": "2022-03-17T06:58:02.984018Z",
     "iopub.status.idle": "2022-03-17T06:58:02.992617Z",
     "shell.execute_reply": "2022-03-17T06:58:02.991846Z",
     "shell.execute_reply.started": "2022-03-17T06:58:02.984607Z"
    }
   },
   "outputs": [],
   "source": [
    "data['Loan_Status'].replace('N',0,inplace=True)\n",
    "data['Loan_Status'].replace('Y',1,inplace=True)"
   ]
  },
  {
   "cell_type": "code",
   "execution_count": 289,
   "metadata": {
    "execution": {
     "iopub.execute_input": "2022-03-17T06:58:02.995026Z",
     "iopub.status.busy": "2022-03-17T06:58:02.994699Z",
     "iopub.status.idle": "2022-03-17T06:58:03.011348Z",
     "shell.execute_reply": "2022-03-17T06:58:03.010675Z",
     "shell.execute_reply.started": "2022-03-17T06:58:02.994984Z"
    }
   },
   "outputs": [
    {
     "data": {
      "text/plain": [
       "1    422\n",
       "0    192\n",
       "Name: Loan_Status, dtype: int64"
      ]
     },
     "execution_count": 289,
     "metadata": {},
     "output_type": "execute_result"
    }
   ],
   "source": [
    "data['Loan_Status'].value_counts()"
   ]
  },
  {
   "cell_type": "code",
   "execution_count": 290,
   "metadata": {
    "execution": {
     "iopub.execute_input": "2022-03-17T06:58:03.013148Z",
     "iopub.status.busy": "2022-03-17T06:58:03.012274Z",
     "iopub.status.idle": "2022-03-17T06:58:03.024509Z",
     "shell.execute_reply": "2022-03-17T06:58:03.023856Z",
     "shell.execute_reply.started": "2022-03-17T06:58:03.013116Z"
    }
   },
   "outputs": [
    {
     "data": {
      "text/plain": [
       "Loan_ID               object\n",
       "Gender                object\n",
       "Married               object\n",
       "Dependents            object\n",
       "Education             object\n",
       "Self_Employed         object\n",
       "ApplicantIncome        int64\n",
       "CoapplicantIncome    float64\n",
       "LoanAmount           float64\n",
       "Loan_Amount_Term     float64\n",
       "Credit_History       float64\n",
       "Property_Area         object\n",
       "Loan_Status            int64\n",
       "dtype: object"
      ]
     },
     "execution_count": 290,
     "metadata": {},
     "output_type": "execute_result"
    }
   ],
   "source": [
    "data.dtypes"
   ]
  },
  {
   "cell_type": "markdown",
   "metadata": {},
   "source": [
    "## Correlation between all the Numeric Variables.\n",
    "- Heatmap is used to visualize the correlation"
   ]
  },
  {
   "cell_type": "code",
   "execution_count": 291,
   "metadata": {
    "execution": {
     "iopub.execute_input": "2022-03-17T06:58:03.025896Z",
     "iopub.status.busy": "2022-03-17T06:58:03.025555Z",
     "iopub.status.idle": "2022-03-17T06:58:03.045147Z",
     "shell.execute_reply": "2022-03-17T06:58:03.044544Z",
     "shell.execute_reply.started": "2022-03-17T06:58:03.025841Z"
    }
   },
   "outputs": [
    {
     "data": {
      "text/html": [
       "<div>\n",
       "<style scoped>\n",
       "    .dataframe tbody tr th:only-of-type {\n",
       "        vertical-align: middle;\n",
       "    }\n",
       "\n",
       "    .dataframe tbody tr th {\n",
       "        vertical-align: top;\n",
       "    }\n",
       "\n",
       "    .dataframe thead th {\n",
       "        text-align: right;\n",
       "    }\n",
       "</style>\n",
       "<table border=\"1\" class=\"dataframe\">\n",
       "  <thead>\n",
       "    <tr style=\"text-align: right;\">\n",
       "      <th></th>\n",
       "      <th>ApplicantIncome</th>\n",
       "      <th>CoapplicantIncome</th>\n",
       "      <th>LoanAmount</th>\n",
       "      <th>Loan_Amount_Term</th>\n",
       "      <th>Credit_History</th>\n",
       "      <th>Loan_Status</th>\n",
       "    </tr>\n",
       "  </thead>\n",
       "  <tbody>\n",
       "    <tr>\n",
       "      <th>ApplicantIncome</th>\n",
       "      <td>1.000000</td>\n",
       "      <td>-0.116605</td>\n",
       "      <td>0.570909</td>\n",
       "      <td>-0.045306</td>\n",
       "      <td>-0.014715</td>\n",
       "      <td>-0.004710</td>\n",
       "    </tr>\n",
       "    <tr>\n",
       "      <th>CoapplicantIncome</th>\n",
       "      <td>-0.116605</td>\n",
       "      <td>1.000000</td>\n",
       "      <td>0.188619</td>\n",
       "      <td>-0.059878</td>\n",
       "      <td>-0.002056</td>\n",
       "      <td>-0.059187</td>\n",
       "    </tr>\n",
       "    <tr>\n",
       "      <th>LoanAmount</th>\n",
       "      <td>0.570909</td>\n",
       "      <td>0.188619</td>\n",
       "      <td>1.000000</td>\n",
       "      <td>0.039447</td>\n",
       "      <td>-0.008433</td>\n",
       "      <td>-0.037318</td>\n",
       "    </tr>\n",
       "    <tr>\n",
       "      <th>Loan_Amount_Term</th>\n",
       "      <td>-0.045306</td>\n",
       "      <td>-0.059878</td>\n",
       "      <td>0.039447</td>\n",
       "      <td>1.000000</td>\n",
       "      <td>0.001470</td>\n",
       "      <td>-0.021268</td>\n",
       "    </tr>\n",
       "    <tr>\n",
       "      <th>Credit_History</th>\n",
       "      <td>-0.014715</td>\n",
       "      <td>-0.002056</td>\n",
       "      <td>-0.008433</td>\n",
       "      <td>0.001470</td>\n",
       "      <td>1.000000</td>\n",
       "      <td>0.561678</td>\n",
       "    </tr>\n",
       "    <tr>\n",
       "      <th>Loan_Status</th>\n",
       "      <td>-0.004710</td>\n",
       "      <td>-0.059187</td>\n",
       "      <td>-0.037318</td>\n",
       "      <td>-0.021268</td>\n",
       "      <td>0.561678</td>\n",
       "      <td>1.000000</td>\n",
       "    </tr>\n",
       "  </tbody>\n",
       "</table>\n",
       "</div>"
      ],
      "text/plain": [
       "                   ApplicantIncome  CoapplicantIncome  LoanAmount  \\\n",
       "ApplicantIncome           1.000000          -0.116605    0.570909   \n",
       "CoapplicantIncome        -0.116605           1.000000    0.188619   \n",
       "LoanAmount                0.570909           0.188619    1.000000   \n",
       "Loan_Amount_Term         -0.045306          -0.059878    0.039447   \n",
       "Credit_History           -0.014715          -0.002056   -0.008433   \n",
       "Loan_Status              -0.004710          -0.059187   -0.037318   \n",
       "\n",
       "                   Loan_Amount_Term  Credit_History  Loan_Status  \n",
       "ApplicantIncome           -0.045306       -0.014715    -0.004710  \n",
       "CoapplicantIncome         -0.059878       -0.002056    -0.059187  \n",
       "LoanAmount                 0.039447       -0.008433    -0.037318  \n",
       "Loan_Amount_Term           1.000000        0.001470    -0.021268  \n",
       "Credit_History             0.001470        1.000000     0.561678  \n",
       "Loan_Status               -0.021268        0.561678     1.000000  "
      ]
     },
     "execution_count": 291,
     "metadata": {},
     "output_type": "execute_result"
    }
   ],
   "source": [
    "data.corr()"
   ]
  },
  {
   "cell_type": "code",
   "execution_count": 292,
   "metadata": {
    "execution": {
     "iopub.execute_input": "2022-03-17T06:58:03.046846Z",
     "iopub.status.busy": "2022-03-17T06:58:03.046441Z",
     "iopub.status.idle": "2022-03-17T06:58:03.426821Z",
     "shell.execute_reply": "2022-03-17T06:58:03.425882Z",
     "shell.execute_reply.started": "2022-03-17T06:58:03.046816Z"
    }
   },
   "outputs": [
    {
     "data": {
      "text/plain": [
       "<AxesSubplot:>"
      ]
     },
     "execution_count": 292,
     "metadata": {},
     "output_type": "execute_result"
    },
    {
     "data": {
      "image/png": "[encoded data removed]",
      "text/plain": [
       "<Figure size 432x288 with 2 Axes>"
      ]
     },
     "metadata": {},
     "output_type": "display_data"
    }
   ],
   "source": [
    "sns.heatmap(data=data.corr(), square=False,cmap='BuPu')"
   ]
  },
  {
   "cell_type": "markdown",
   "metadata": {},
   "source": [
    "### It can be infered that the most correlated variables are (ApplicantIncome - LoanAmount) and (Credit_History - Loan_Status). LoanAmount is correlated with CoapplicantIncome.\n",
    "\n",
    "We can now impute the missing values and treat the outliers because missing data and outliers can have adverse effect on the model performance."
   ]
  },
  {
   "cell_type": "code",
   "execution_count": 293,
   "metadata": {
    "execution": {
     "iopub.execute_input": "2022-03-17T06:58:03.428191Z",
     "iopub.status.busy": "2022-03-17T06:58:03.427977Z",
     "iopub.status.idle": "2022-03-17T06:58:03.438601Z",
     "shell.execute_reply": "2022-03-17T06:58:03.437501Z",
     "shell.execute_reply.started": "2022-03-17T06:58:03.428163Z"
    }
   },
   "outputs": [
    {
     "data": {
      "text/plain": [
       "Loan_ID               0\n",
       "Gender               13\n",
       "Married               3\n",
       "Dependents           15\n",
       "Education             0\n",
       "Self_Employed        32\n",
       "ApplicantIncome       0\n",
       "CoapplicantIncome     0\n",
       "LoanAmount           22\n",
       "Loan_Amount_Term     14\n",
       "Credit_History       50\n",
       "Property_Area         0\n",
       "Loan_Status           0\n",
       "dtype: int64"
      ]
     },
     "execution_count": 293,
     "metadata": {},
     "output_type": "execute_result"
    }
   ],
   "source": [
    "data.isnull().sum()"
   ]
  },
  {
   "cell_type": "markdown",
   "metadata": {},
   "source": [
    "There are missing values in many columns. \n",
    "We can consider following methods to fill the missing values\n",
    "\n",
    "- For numerical variables: imputation using mean or median\n",
    "- For categorical variables: imputation using mode"
   ]
  },
  {
   "cell_type": "code",
   "execution_count": 294,
   "metadata": {
    "execution": {
     "iopub.execute_input": "2022-03-17T06:58:03.440471Z",
     "iopub.status.busy": "2022-03-17T06:58:03.440153Z",
     "iopub.status.idle": "2022-03-17T06:58:03.455532Z",
     "shell.execute_reply": "2022-03-17T06:58:03.454578Z",
     "shell.execute_reply.started": "2022-03-17T06:58:03.440431Z"
    }
   },
   "outputs": [
    {
     "data": {
      "text/plain": [
       "Loan_ID               object\n",
       "Gender                object\n",
       "Married               object\n",
       "Dependents            object\n",
       "Education             object\n",
       "Self_Employed         object\n",
       "ApplicantIncome        int64\n",
       "CoapplicantIncome    float64\n",
       "LoanAmount           float64\n",
       "Loan_Amount_Term     float64\n",
       "Credit_History       float64\n",
       "Property_Area         object\n",
       "Loan_Status            int64\n",
       "dtype: object"
      ]
     },
     "execution_count": 294,
     "metadata": {},
     "output_type": "execute_result"
    }
   ],
   "source": [
    "data.dtypes"
   ]
  },
  {
   "cell_type": "code",
   "execution_count": 295,
   "metadata": {
    "execution": {
     "iopub.execute_input": "2022-03-17T06:58:03.456811Z",
     "iopub.status.busy": "2022-03-17T06:58:03.456558Z",
     "iopub.status.idle": "2022-03-17T06:58:03.471703Z",
     "shell.execute_reply": "2022-03-17T06:58:03.470545Z",
     "shell.execute_reply.started": "2022-03-17T06:58:03.456764Z"
    }
   },
   "outputs": [
    {
     "data": {
      "text/plain": [
       "count      601\n",
       "unique       2\n",
       "top       Male\n",
       "freq       489\n",
       "Name: Gender, dtype: object"
      ]
     },
     "execution_count": 295,
     "metadata": {},
     "output_type": "execute_result"
    }
   ],
   "source": [
    "data['Gender'].describe()"
   ]
  },
  {
   "cell_type": "code",
   "execution_count": 296,
   "metadata": {
    "execution": {
     "iopub.execute_input": "2022-03-17T06:58:03.473926Z",
     "iopub.status.busy": "2022-03-17T06:58:03.473089Z",
     "iopub.status.idle": "2022-03-17T06:58:03.489017Z",
     "shell.execute_reply": "2022-03-17T06:58:03.488319Z",
     "shell.execute_reply.started": "2022-03-17T06:58:03.473881Z"
    }
   },
   "outputs": [
    {
     "data": {
      "text/plain": [
       "0    Male\n",
       "dtype: object"
      ]
     },
     "execution_count": 296,
     "metadata": {},
     "output_type": "execute_result"
    }
   ],
   "source": [
    "data['Gender'].mode()"
   ]
  },
  {
   "cell_type": "code",
   "execution_count": 297,
   "metadata": {
    "execution": {
     "iopub.execute_input": "2022-03-17T06:58:03.490488Z",
     "iopub.status.busy": "2022-03-17T06:58:03.489960Z",
     "iopub.status.idle": "2022-03-17T06:58:03.503625Z",
     "shell.execute_reply": "2022-03-17T06:58:03.502957Z",
     "shell.execute_reply.started": "2022-03-17T06:58:03.490459Z"
    }
   },
   "outputs": [
    {
     "data": {
      "text/plain": [
       "'Male'"
      ]
     },
     "execution_count": 297,
     "metadata": {},
     "output_type": "execute_result"
    }
   ],
   "source": [
    "data['Gender'].mode()[0]"
   ]
  },
  {
   "cell_type": "code",
   "execution_count": 298,
   "metadata": {
    "execution": {
     "iopub.execute_input": "2022-03-17T06:58:03.504957Z",
     "iopub.status.busy": "2022-03-17T06:58:03.504567Z",
     "iopub.status.idle": "2022-03-17T06:58:03.518274Z",
     "shell.execute_reply": "2022-03-17T06:58:03.517362Z",
     "shell.execute_reply.started": "2022-03-17T06:58:03.504912Z"
    }
   },
   "outputs": [],
   "source": [
    "# imputinig the missing values using the mode of gender features\n",
    "data['Gender'].fillna(value=data['Gender'].mode()[0],inplace=True)"
   ]
  },
  {
   "cell_type": "code",
   "execution_count": 299,
   "metadata": {
    "execution": {
     "iopub.execute_input": "2022-03-17T06:58:03.519729Z",
     "iopub.status.busy": "2022-03-17T06:58:03.519510Z",
     "iopub.status.idle": "2022-03-17T06:58:03.531775Z",
     "shell.execute_reply": "2022-03-17T06:58:03.531080Z",
     "shell.execute_reply.started": "2022-03-17T06:58:03.519702Z"
    }
   },
   "outputs": [
    {
     "data": {
      "text/plain": [
       "0"
      ]
     },
     "execution_count": 299,
     "metadata": {},
     "output_type": "execute_result"
    }
   ],
   "source": [
    "# after imputation\n",
    "data['Gender'].isnull().sum()"
   ]
  },
  {
   "cell_type": "code",
   "execution_count": 300,
   "metadata": {
    "execution": {
     "iopub.execute_input": "2022-03-17T06:58:03.533336Z",
     "iopub.status.busy": "2022-03-17T06:58:03.532956Z",
     "iopub.status.idle": "2022-03-17T06:58:03.548628Z",
     "shell.execute_reply": "2022-03-17T06:58:03.547998Z",
     "shell.execute_reply.started": "2022-03-17T06:58:03.533296Z"
    }
   },
   "outputs": [
    {
     "data": {
      "text/plain": [
       "count      614\n",
       "unique       2\n",
       "top       Male\n",
       "freq       502\n",
       "Name: Gender, dtype: object"
      ]
     },
     "execution_count": 300,
     "metadata": {},
     "output_type": "execute_result"
    }
   ],
   "source": [
    "# check the value_counts and unique count\n",
    "data['Gender'].describe()"
   ]
  },
  {
   "cell_type": "markdown",
   "metadata": {},
   "source": [
    "#### Similarly we impute missing values with mode for others"
   ]
  },
  {
   "cell_type": "code",
   "execution_count": 301,
   "metadata": {
    "execution": {
     "iopub.execute_input": "2022-03-17T06:58:03.550187Z",
     "iopub.status.busy": "2022-03-17T06:58:03.549821Z",
     "iopub.status.idle": "2022-03-17T06:58:03.561612Z",
     "shell.execute_reply": "2022-03-17T06:58:03.560799Z",
     "shell.execute_reply.started": "2022-03-17T06:58:03.550152Z"
    }
   },
   "outputs": [],
   "source": [
    "data['Married'].fillna(data['Married'].mode()[0],inplace= True)\n",
    "data['Dependents'].fillna(data['Dependents'].mode()[0],inplace= True)\n",
    "data['Self_Employed'].fillna(data['Self_Employed'].mode()[0],inplace= True)"
   ]
  },
  {
   "cell_type": "markdown",
   "metadata": {},
   "source": [
    "#### Although the credit_history is a numeric feature but the values in it are binary (1 or 0), so we will use the \"mode\" to imput these values"
   ]
  },
  {
   "cell_type": "code",
   "execution_count": 302,
   "metadata": {
    "execution": {
     "iopub.execute_input": "2022-03-17T06:58:03.563054Z",
     "iopub.status.busy": "2022-03-17T06:58:03.562804Z",
     "iopub.status.idle": "2022-03-17T06:58:03.581481Z",
     "shell.execute_reply": "2022-03-17T06:58:03.580677Z",
     "shell.execute_reply.started": "2022-03-17T06:58:03.563023Z"
    }
   },
   "outputs": [
    {
     "data": {
      "text/plain": [
       "1.0    475\n",
       "0.0     89\n",
       "Name: Credit_History, dtype: int64"
      ]
     },
     "execution_count": 302,
     "metadata": {},
     "output_type": "execute_result"
    }
   ],
   "source": [
    "data['Credit_History'].value_counts()"
   ]
  },
  {
   "cell_type": "code",
   "execution_count": 303,
   "metadata": {
    "execution": {
     "iopub.execute_input": "2022-03-17T06:58:03.582990Z",
     "iopub.status.busy": "2022-03-17T06:58:03.582615Z",
     "iopub.status.idle": "2022-03-17T06:58:03.596165Z",
     "shell.execute_reply": "2022-03-17T06:58:03.595393Z",
     "shell.execute_reply.started": "2022-03-17T06:58:03.582943Z"
    }
   },
   "outputs": [
    {
     "data": {
      "text/plain": [
       "1.0"
      ]
     },
     "execution_count": 303,
     "metadata": {},
     "output_type": "execute_result"
    }
   ],
   "source": [
    "data['Credit_History'].mode()[0]"
   ]
  },
  {
   "cell_type": "code",
   "execution_count": 304,
   "metadata": {
    "execution": {
     "iopub.execute_input": "2022-03-17T06:58:03.597650Z",
     "iopub.status.busy": "2022-03-17T06:58:03.597315Z",
     "iopub.status.idle": "2022-03-17T06:58:03.608001Z",
     "shell.execute_reply": "2022-03-17T06:58:03.607266Z",
     "shell.execute_reply.started": "2022-03-17T06:58:03.597622Z"
    }
   },
   "outputs": [],
   "source": [
    "data['Credit_History'].fillna(data['Credit_History'].mode()[0],inplace=True)"
   ]
  },
  {
   "cell_type": "markdown",
   "metadata": {},
   "source": [
    "### Now we wil impute the missing values for the numeric features 'LoaAmount'and 'Loan_Amount_Term'."
   ]
  },
  {
   "cell_type": "code",
   "execution_count": 305,
   "metadata": {
    "execution": {
     "iopub.execute_input": "2022-03-17T06:58:03.609490Z",
     "iopub.status.busy": "2022-03-17T06:58:03.609103Z",
     "iopub.status.idle": "2022-03-17T06:58:03.624005Z",
     "shell.execute_reply": "2022-03-17T06:58:03.623257Z",
     "shell.execute_reply.started": "2022-03-17T06:58:03.609461Z"
    }
   },
   "outputs": [
    {
     "data": {
      "text/plain": [
       "Loan_ID               0\n",
       "Gender                0\n",
       "Married               0\n",
       "Dependents            0\n",
       "Education             0\n",
       "Self_Employed         0\n",
       "ApplicantIncome       0\n",
       "CoapplicantIncome     0\n",
       "LoanAmount           22\n",
       "Loan_Amount_Term     14\n",
       "Credit_History        0\n",
       "Property_Area         0\n",
       "Loan_Status           0\n",
       "dtype: int64"
      ]
     },
     "execution_count": 305,
     "metadata": {},
     "output_type": "execute_result"
    }
   ],
   "source": [
    "data.isna().sum()"
   ]
  },
  {
   "cell_type": "code",
   "execution_count": 306,
   "metadata": {
    "execution": {
     "iopub.execute_input": "2022-03-17T06:58:03.625685Z",
     "iopub.status.busy": "2022-03-17T06:58:03.625331Z",
     "iopub.status.idle": "2022-03-17T06:58:03.636920Z",
     "shell.execute_reply": "2022-03-17T06:58:03.636118Z",
     "shell.execute_reply.started": "2022-03-17T06:58:03.625645Z"
    }
   },
   "outputs": [
    {
     "data": {
      "text/plain": [
       "360.0    512\n",
       "180.0     44\n",
       "480.0     15\n",
       "300.0     13\n",
       "240.0      4\n",
       "84.0       4\n",
       "120.0      3\n",
       "60.0       2\n",
       "36.0       2\n",
       "12.0       1\n",
       "Name: Loan_Amount_Term, dtype: int64"
      ]
     },
     "execution_count": 306,
     "metadata": {},
     "output_type": "execute_result"
    }
   ],
   "source": [
    "data['Loan_Amount_Term'].value_counts()"
   ]
  },
  {
   "cell_type": "markdown",
   "metadata": {},
   "source": [
    "#### We can seen that the value of 360 is repeating the most in Loan_Amount_Term variable, so we will use the mode of this variable to replace the missing values."
   ]
  },
  {
   "cell_type": "code",
   "execution_count": 307,
   "metadata": {
    "execution": {
     "iopub.execute_input": "2022-03-17T06:58:03.638465Z",
     "iopub.status.busy": "2022-03-17T06:58:03.638233Z",
     "iopub.status.idle": "2022-03-17T06:58:03.646964Z",
     "shell.execute_reply": "2022-03-17T06:58:03.646220Z",
     "shell.execute_reply.started": "2022-03-17T06:58:03.638439Z"
    }
   },
   "outputs": [],
   "source": [
    "data['Loan_Amount_Term'].fillna(data['Loan_Amount_Term'].mode()[0],inplace=True)"
   ]
  },
  {
   "cell_type": "code",
   "execution_count": 308,
   "metadata": {
    "execution": {
     "iopub.execute_input": "2022-03-17T06:58:03.648494Z",
     "iopub.status.busy": "2022-03-17T06:58:03.648023Z",
     "iopub.status.idle": "2022-03-17T06:58:03.664384Z",
     "shell.execute_reply": "2022-03-17T06:58:03.663441Z",
     "shell.execute_reply.started": "2022-03-17T06:58:03.648458Z"
    }
   },
   "outputs": [
    {
     "data": {
      "text/plain": [
       "120.0    20\n",
       "110.0    17\n",
       "100.0    15\n",
       "160.0    12\n",
       "187.0    12\n",
       "         ..\n",
       "240.0     1\n",
       "214.0     1\n",
       "59.0      1\n",
       "166.0     1\n",
       "253.0     1\n",
       "Name: LoanAmount, Length: 203, dtype: int64"
      ]
     },
     "execution_count": 308,
     "metadata": {},
     "output_type": "execute_result"
    }
   ],
   "source": [
    "data['LoanAmount'].value_counts()"
   ]
  },
  {
   "cell_type": "markdown",
   "metadata": {},
   "source": [
    "### We can see that the 'LoanAmount' feature is highly affected by the presence of lot of outliers, so replacing the missing values by the mean() of the feature will not be the correct approach here.\n",
    "\n",
    "### Thus to impute these missing values we will use the median() of the feature."
   ]
  },
  {
   "cell_type": "code",
   "execution_count": 309,
   "metadata": {
    "execution": {
     "iopub.execute_input": "2022-03-17T06:58:03.666448Z",
     "iopub.status.busy": "2022-03-17T06:58:03.665972Z",
     "iopub.status.idle": "2022-03-17T06:58:03.678117Z",
     "shell.execute_reply": "2022-03-17T06:58:03.677315Z",
     "shell.execute_reply.started": "2022-03-17T06:58:03.666405Z"
    }
   },
   "outputs": [
    {
     "data": {
      "text/plain": [
       "128.0"
      ]
     },
     "execution_count": 309,
     "metadata": {},
     "output_type": "execute_result"
    }
   ],
   "source": [
    "data['LoanAmount'].median()"
   ]
  },
  {
   "cell_type": "code",
   "execution_count": 310,
   "metadata": {
    "execution": {
     "iopub.execute_input": "2022-03-17T06:58:03.680182Z",
     "iopub.status.busy": "2022-03-17T06:58:03.679707Z",
     "iopub.status.idle": "2022-03-17T06:58:03.687590Z",
     "shell.execute_reply": "2022-03-17T06:58:03.686790Z",
     "shell.execute_reply.started": "2022-03-17T06:58:03.680140Z"
    }
   },
   "outputs": [],
   "source": [
    "data['LoanAmount'].fillna(data['LoanAmount'].median(),inplace=True)"
   ]
  },
  {
   "cell_type": "code",
   "execution_count": 311,
   "metadata": {
    "execution": {
     "iopub.execute_input": "2022-03-17T06:58:03.688933Z",
     "iopub.status.busy": "2022-03-17T06:58:03.688570Z",
     "iopub.status.idle": "2022-03-17T06:58:03.703695Z",
     "shell.execute_reply": "2022-03-17T06:58:03.702770Z",
     "shell.execute_reply.started": "2022-03-17T06:58:03.688894Z"
    }
   },
   "outputs": [
    {
     "data": {
      "text/plain": [
       "Loan_ID              0\n",
       "Gender               0\n",
       "Married              0\n",
       "Dependents           0\n",
       "Education            0\n",
       "Self_Employed        0\n",
       "ApplicantIncome      0\n",
       "CoapplicantIncome    0\n",
       "LoanAmount           0\n",
       "Loan_Amount_Term     0\n",
       "Credit_History       0\n",
       "Property_Area        0\n",
       "Loan_Status          0\n",
       "dtype: int64"
      ]
     },
     "execution_count": 311,
     "metadata": {},
     "output_type": "execute_result"
    }
   ],
   "source": [
    "data.isnull().sum()"
   ]
  },
  {
   "cell_type": "code",
   "execution_count": 312,
   "metadata": {},
   "outputs": [],
   "source": [
    "data.to_csv('data/cleaned_data.csv')"
   ]
  },
  {
   "cell_type": "markdown",
   "metadata": {},
   "source": [
    "## Similarly lets clean the test data"
   ]
  },
  {
   "cell_type": "code",
   "execution_count": 313,
   "metadata": {
    "execution": {
     "iopub.execute_input": "2022-03-17T07:06:31.464988Z",
     "iopub.status.busy": "2022-03-17T07:06:31.464615Z",
     "iopub.status.idle": "2022-03-17T07:06:31.698471Z",
     "shell.execute_reply": "2022-03-17T07:06:31.697765Z",
     "shell.execute_reply.started": "2022-03-17T07:06:31.464951Z"
    }
   },
   "outputs": [],
   "source": [
    "test_data = pd.read_csv('data/test.csv')"
   ]
  },
  {
   "cell_type": "code",
   "execution_count": 314,
   "metadata": {
    "execution": {
     "iopub.execute_input": "2022-03-17T07:07:24.283661Z",
     "iopub.status.busy": "2022-03-17T07:07:24.283333Z",
     "iopub.status.idle": "2022-03-17T07:07:24.305974Z",
     "shell.execute_reply": "2022-03-17T07:07:24.304728Z",
     "shell.execute_reply.started": "2022-03-17T07:07:24.283629Z"
    }
   },
   "outputs": [
    {
     "name": "stdout",
     "output_type": "stream",
     "text": [
      "SHAPE OF THE DATA: \n",
      "(367, 13)\n",
      "------------------------------------------------------------------------------------------\n",
      "INFORMATION OF THE DATA: \n",
      "<class 'pandas.core.frame.DataFrame'>\n",
      "RangeIndex: 367 entries, 0 to 366\n",
      "Data columns (total 13 columns):\n",
      " #   Column             Non-Null Count  Dtype  \n",
      "---  ------             --------------  -----  \n",
      " 0   Unnamed: 0         367 non-null    int64  \n",
      " 1   Loan_ID            367 non-null    object \n",
      " 2   Gender             356 non-null    object \n",
      " 3   Married            367 non-null    object \n",
      " 4   Dependents         357 non-null    object \n",
      " 5   Education          367 non-null    object \n",
      " 6   Self_Employed      344 non-null    object \n",
      " 7   ApplicantIncome    367 non-null    int64  \n",
      " 8   CoapplicantIncome  367 non-null    int64  \n",
      " 9   LoanAmount         362 non-null    float64\n",
      " 10  Loan_Amount_Term   361 non-null    float64\n",
      " 11  Credit_History     338 non-null    float64\n",
      " 12  Property_Area      367 non-null    object \n",
      "dtypes: float64(3), int64(3), object(7)\n",
      "memory usage: 37.4+ KB\n",
      "None\n",
      "------------------------------------------------------------------------------------------\n",
      "NUMBER OF NULL VALUES PRESENT IN THE DATA: \n",
      "Unnamed: 0            0\n",
      "Loan_ID               0\n",
      "Gender               11\n",
      "Married               0\n",
      "Dependents           10\n",
      "Education             0\n",
      "Self_Employed        23\n",
      "ApplicantIncome       0\n",
      "CoapplicantIncome     0\n",
      "LoanAmount            5\n",
      "Loan_Amount_Term      6\n",
      "Credit_History       29\n",
      "Property_Area         0\n",
      "dtype: int64\n",
      "------------------------------------------------------------------------------------------\n",
      "COLUMN NAMES OF THE DATA: \n",
      "Index(['Unnamed: 0', 'Loan_ID', 'Gender', 'Married', 'Dependents', 'Education',\n",
      "       'Self_Employed', 'ApplicantIncome', 'CoapplicantIncome', 'LoanAmount',\n",
      "       'Loan_Amount_Term', 'Credit_History', 'Property_Area'],\n",
      "      dtype='object')\n",
      "------------------------------------------------------------------------------------------\n"
     ]
    }
   ],
   "source": [
    "# Quick overview of the data (we made a function for that)\n",
    "data_feature(test_data)"
   ]
  },
  {
   "cell_type": "code",
   "execution_count": 315,
   "metadata": {
    "execution": {
     "iopub.execute_input": "2022-03-17T07:08:56.644381Z",
     "iopub.status.busy": "2022-03-17T07:08:56.644104Z",
     "iopub.status.idle": "2022-03-17T07:08:56.648164Z",
     "shell.execute_reply": "2022-03-17T07:08:56.647208Z",
     "shell.execute_reply.started": "2022-03-17T07:08:56.644350Z"
    }
   },
   "outputs": [],
   "source": [
    "# data_feature(data)"
   ]
  },
  {
   "cell_type": "code",
   "execution_count": 316,
   "metadata": {
    "execution": {
     "iopub.execute_input": "2022-03-17T07:13:41.859832Z",
     "iopub.status.busy": "2022-03-17T07:13:41.858930Z",
     "iopub.status.idle": "2022-03-17T07:13:41.876208Z",
     "shell.execute_reply": "2022-03-17T07:13:41.874988Z",
     "shell.execute_reply.started": "2022-03-17T07:13:41.859788Z"
    }
   },
   "outputs": [],
   "source": [
    "# cleaning the test data\n",
    "test_data['Dependents'].replace('3+',3,inplace=True)\n",
    "test_data['Gender'].fillna(data['Gender'].mode()[0],inplace=True)\n",
    "test_data['Dependents'].fillna(data['Dependents'].mode()[0],inplace=True)\n",
    "test_data['Self_Employed'].fillna(data['Self_Employed'].mode()[0],inplace=True)\n",
    "test_data['Credit_History'].fillna(data['Credit_History'].mode()[0],inplace=True)\n",
    "test_data['Loan_Amount_Term'].fillna(data['Loan_Amount_Term'].mode()[0],inplace=True)\n",
    "test_data['LoanAmount'].fillna(data['LoanAmount'].mode()[0],inplace=True)"
   ]
  },
  {
   "cell_type": "code",
   "execution_count": 317,
   "metadata": {
    "execution": {
     "iopub.execute_input": "2022-03-17T07:13:49.978361Z",
     "iopub.status.busy": "2022-03-17T07:13:49.977214Z",
     "iopub.status.idle": "2022-03-17T07:13:49.987169Z",
     "shell.execute_reply": "2022-03-17T07:13:49.986261Z",
     "shell.execute_reply.started": "2022-03-17T07:13:49.978322Z"
    }
   },
   "outputs": [
    {
     "data": {
      "text/plain": [
       "Unnamed: 0           0\n",
       "Loan_ID              0\n",
       "Gender               0\n",
       "Married              0\n",
       "Dependents           0\n",
       "Education            0\n",
       "Self_Employed        0\n",
       "ApplicantIncome      0\n",
       "CoapplicantIncome    0\n",
       "LoanAmount           0\n",
       "Loan_Amount_Term     0\n",
       "Credit_History       0\n",
       "Property_Area        0\n",
       "dtype: int64"
      ]
     },
     "execution_count": 317,
     "metadata": {},
     "output_type": "execute_result"
    }
   ],
   "source": [
    "test_data.isnull().sum()"
   ]
  },
  {
   "cell_type": "markdown",
   "metadata": {},
   "source": [
    "## Handling Outliers\n",
    "---\n",
    "Presence of outliers in the data mostly has a significant effect on the mean and standard deviation and thus affects the distribution of the variable.\n",
    "Due to the presence of outliers in the data, bulk of the data in the loan amount is at the left and the right tail is longer. This is called right skewness. One way to remove is by removing data points more than 90th percentile and less than 10th percentile.\n",
    "---"
   ]
  },
  {
   "cell_type": "code",
   "execution_count": 318,
   "metadata": {
    "execution": {
     "iopub.execute_input": "2022-03-17T07:18:11.718698Z",
     "iopub.status.busy": "2022-03-17T07:18:11.717742Z",
     "iopub.status.idle": "2022-03-17T07:18:12.235513Z",
     "shell.execute_reply": "2022-03-17T07:18:12.234814Z",
     "shell.execute_reply.started": "2022-03-17T07:18:11.718653Z"
    }
   },
   "outputs": [],
   "source": [
    "# data['LoanAmount'] = np.log(data['LoanAmount'])\n",
    "# data['LoanAmount'].hist(bins=30, color='purple',alpha=0.3)"
   ]
  },
  {
   "cell_type": "markdown",
   "metadata": {},
   "source": [
    "---\n",
    "### It can be seen that after applying the log transformation the distribution looks much closer to normal and the effect of outliers has been significantly removed.\n",
    "---"
   ]
  },
  {
   "cell_type": "code",
   "execution_count": 319,
   "metadata": {
    "execution": {
     "iopub.execute_input": "2022-03-17T07:20:42.227966Z",
     "iopub.status.busy": "2022-03-17T07:20:42.227526Z",
     "iopub.status.idle": "2022-03-17T07:20:42.560716Z",
     "shell.execute_reply": "2022-03-17T07:20:42.559851Z",
     "shell.execute_reply.started": "2022-03-17T07:20:42.227918Z"
    }
   },
   "outputs": [],
   "source": [
    "# # Similar for test dataset\n",
    "# test_data['LoanAmount'] = np.log(test_data['LoanAmount'])\n",
    "# test_data['LoanAmount'].hist(bins=30, color='blue', alpha=0.3)"
   ]
  },
  {
   "cell_type": "markdown",
   "metadata": {},
   "source": [
    "## Data Preprocessing"
   ]
  },
  {
   "cell_type": "markdown",
   "metadata": {},
   "source": [
    "#### Since Loan_ID does not have any significance while the predicting the Loan Approval status, we will drop the Loan_ID from both the train and test datasets."
   ]
  },
  {
   "cell_type": "code",
   "execution_count": 320,
   "metadata": {},
   "outputs": [],
   "source": [
    "train = data.drop('Loan_ID',axis=1)\n",
    "test = test_data.drop('Loan_ID',axis=1)"
   ]
  },
  {
   "cell_type": "markdown",
   "metadata": {},
   "source": [
    "## Encoding the Categorical Variables\n",
    "\n",
    "#### Since our train data contains the categorical features - Gender, Married, Education, Self_Employed and Property_Area which have non-numeric data so we need to convert these features into the numeric before further processing as the machine learning algorithm works with numeric data."
   ]
  },
  {
   "cell_type": "code",
   "execution_count": 321,
   "metadata": {},
   "outputs": [
    {
     "data": {
      "text/html": [
       "<div>\n",
       "<style scoped>\n",
       "    .dataframe tbody tr th:only-of-type {\n",
       "        vertical-align: middle;\n",
       "    }\n",
       "\n",
       "    .dataframe tbody tr th {\n",
       "        vertical-align: top;\n",
       "    }\n",
       "\n",
       "    .dataframe thead th {\n",
       "        text-align: right;\n",
       "    }\n",
       "</style>\n",
       "<table border=\"1\" class=\"dataframe\">\n",
       "  <thead>\n",
       "    <tr style=\"text-align: right;\">\n",
       "      <th></th>\n",
       "      <th>Gender</th>\n",
       "      <th>Married</th>\n",
       "      <th>Dependents</th>\n",
       "      <th>Education</th>\n",
       "      <th>Self_Employed</th>\n",
       "      <th>ApplicantIncome</th>\n",
       "      <th>CoapplicantIncome</th>\n",
       "      <th>LoanAmount</th>\n",
       "      <th>Loan_Amount_Term</th>\n",
       "      <th>Credit_History</th>\n",
       "      <th>Property_Area</th>\n",
       "      <th>Loan_Status</th>\n",
       "    </tr>\n",
       "  </thead>\n",
       "  <tbody>\n",
       "    <tr>\n",
       "      <th>0</th>\n",
       "      <td>Male</td>\n",
       "      <td>No</td>\n",
       "      <td>0</td>\n",
       "      <td>Graduate</td>\n",
       "      <td>No</td>\n",
       "      <td>5849</td>\n",
       "      <td>0.0</td>\n",
       "      <td>128.0</td>\n",
       "      <td>360.0</td>\n",
       "      <td>1.0</td>\n",
       "      <td>Urban</td>\n",
       "      <td>1</td>\n",
       "    </tr>\n",
       "    <tr>\n",
       "      <th>1</th>\n",
       "      <td>Male</td>\n",
       "      <td>Yes</td>\n",
       "      <td>1</td>\n",
       "      <td>Graduate</td>\n",
       "      <td>No</td>\n",
       "      <td>4583</td>\n",
       "      <td>1508.0</td>\n",
       "      <td>128.0</td>\n",
       "      <td>360.0</td>\n",
       "      <td>1.0</td>\n",
       "      <td>Rural</td>\n",
       "      <td>0</td>\n",
       "    </tr>\n",
       "    <tr>\n",
       "      <th>2</th>\n",
       "      <td>Male</td>\n",
       "      <td>Yes</td>\n",
       "      <td>0</td>\n",
       "      <td>Graduate</td>\n",
       "      <td>Yes</td>\n",
       "      <td>3000</td>\n",
       "      <td>0.0</td>\n",
       "      <td>66.0</td>\n",
       "      <td>360.0</td>\n",
       "      <td>1.0</td>\n",
       "      <td>Urban</td>\n",
       "      <td>1</td>\n",
       "    </tr>\n",
       "    <tr>\n",
       "      <th>3</th>\n",
       "      <td>Male</td>\n",
       "      <td>Yes</td>\n",
       "      <td>0</td>\n",
       "      <td>Not Graduate</td>\n",
       "      <td>No</td>\n",
       "      <td>2583</td>\n",
       "      <td>2358.0</td>\n",
       "      <td>120.0</td>\n",
       "      <td>360.0</td>\n",
       "      <td>1.0</td>\n",
       "      <td>Urban</td>\n",
       "      <td>1</td>\n",
       "    </tr>\n",
       "    <tr>\n",
       "      <th>4</th>\n",
       "      <td>Male</td>\n",
       "      <td>No</td>\n",
       "      <td>0</td>\n",
       "      <td>Graduate</td>\n",
       "      <td>No</td>\n",
       "      <td>6000</td>\n",
       "      <td>0.0</td>\n",
       "      <td>141.0</td>\n",
       "      <td>360.0</td>\n",
       "      <td>1.0</td>\n",
       "      <td>Urban</td>\n",
       "      <td>1</td>\n",
       "    </tr>\n",
       "    <tr>\n",
       "      <th>5</th>\n",
       "      <td>Male</td>\n",
       "      <td>Yes</td>\n",
       "      <td>2</td>\n",
       "      <td>Graduate</td>\n",
       "      <td>Yes</td>\n",
       "      <td>5417</td>\n",
       "      <td>4196.0</td>\n",
       "      <td>267.0</td>\n",
       "      <td>360.0</td>\n",
       "      <td>1.0</td>\n",
       "      <td>Urban</td>\n",
       "      <td>1</td>\n",
       "    </tr>\n",
       "    <tr>\n",
       "      <th>6</th>\n",
       "      <td>Male</td>\n",
       "      <td>Yes</td>\n",
       "      <td>0</td>\n",
       "      <td>Not Graduate</td>\n",
       "      <td>No</td>\n",
       "      <td>2333</td>\n",
       "      <td>1516.0</td>\n",
       "      <td>95.0</td>\n",
       "      <td>360.0</td>\n",
       "      <td>1.0</td>\n",
       "      <td>Urban</td>\n",
       "      <td>1</td>\n",
       "    </tr>\n",
       "    <tr>\n",
       "      <th>7</th>\n",
       "      <td>Male</td>\n",
       "      <td>Yes</td>\n",
       "      <td>3+</td>\n",
       "      <td>Graduate</td>\n",
       "      <td>No</td>\n",
       "      <td>3036</td>\n",
       "      <td>2504.0</td>\n",
       "      <td>158.0</td>\n",
       "      <td>360.0</td>\n",
       "      <td>0.0</td>\n",
       "      <td>Semiurban</td>\n",
       "      <td>0</td>\n",
       "    </tr>\n",
       "    <tr>\n",
       "      <th>8</th>\n",
       "      <td>Male</td>\n",
       "      <td>Yes</td>\n",
       "      <td>2</td>\n",
       "      <td>Graduate</td>\n",
       "      <td>No</td>\n",
       "      <td>4006</td>\n",
       "      <td>1526.0</td>\n",
       "      <td>168.0</td>\n",
       "      <td>360.0</td>\n",
       "      <td>1.0</td>\n",
       "      <td>Urban</td>\n",
       "      <td>1</td>\n",
       "    </tr>\n",
       "    <tr>\n",
       "      <th>9</th>\n",
       "      <td>Male</td>\n",
       "      <td>Yes</td>\n",
       "      <td>1</td>\n",
       "      <td>Graduate</td>\n",
       "      <td>No</td>\n",
       "      <td>12841</td>\n",
       "      <td>10968.0</td>\n",
       "      <td>349.0</td>\n",
       "      <td>360.0</td>\n",
       "      <td>1.0</td>\n",
       "      <td>Semiurban</td>\n",
       "      <td>0</td>\n",
       "    </tr>\n",
       "    <tr>\n",
       "      <th>10</th>\n",
       "      <td>Male</td>\n",
       "      <td>Yes</td>\n",
       "      <td>2</td>\n",
       "      <td>Graduate</td>\n",
       "      <td>No</td>\n",
       "      <td>3200</td>\n",
       "      <td>700.0</td>\n",
       "      <td>70.0</td>\n",
       "      <td>360.0</td>\n",
       "      <td>1.0</td>\n",
       "      <td>Urban</td>\n",
       "      <td>1</td>\n",
       "    </tr>\n",
       "    <tr>\n",
       "      <th>11</th>\n",
       "      <td>Male</td>\n",
       "      <td>Yes</td>\n",
       "      <td>2</td>\n",
       "      <td>Graduate</td>\n",
       "      <td>No</td>\n",
       "      <td>2500</td>\n",
       "      <td>1840.0</td>\n",
       "      <td>109.0</td>\n",
       "      <td>360.0</td>\n",
       "      <td>1.0</td>\n",
       "      <td>Urban</td>\n",
       "      <td>1</td>\n",
       "    </tr>\n",
       "    <tr>\n",
       "      <th>12</th>\n",
       "      <td>Male</td>\n",
       "      <td>Yes</td>\n",
       "      <td>2</td>\n",
       "      <td>Graduate</td>\n",
       "      <td>No</td>\n",
       "      <td>3073</td>\n",
       "      <td>8106.0</td>\n",
       "      <td>200.0</td>\n",
       "      <td>360.0</td>\n",
       "      <td>1.0</td>\n",
       "      <td>Urban</td>\n",
       "      <td>1</td>\n",
       "    </tr>\n",
       "    <tr>\n",
       "      <th>13</th>\n",
       "      <td>Male</td>\n",
       "      <td>No</td>\n",
       "      <td>0</td>\n",
       "      <td>Graduate</td>\n",
       "      <td>No</td>\n",
       "      <td>1853</td>\n",
       "      <td>2840.0</td>\n",
       "      <td>114.0</td>\n",
       "      <td>360.0</td>\n",
       "      <td>1.0</td>\n",
       "      <td>Rural</td>\n",
       "      <td>0</td>\n",
       "    </tr>\n",
       "    <tr>\n",
       "      <th>14</th>\n",
       "      <td>Male</td>\n",
       "      <td>Yes</td>\n",
       "      <td>2</td>\n",
       "      <td>Graduate</td>\n",
       "      <td>No</td>\n",
       "      <td>1299</td>\n",
       "      <td>1086.0</td>\n",
       "      <td>17.0</td>\n",
       "      <td>120.0</td>\n",
       "      <td>1.0</td>\n",
       "      <td>Urban</td>\n",
       "      <td>1</td>\n",
       "    </tr>\n",
       "    <tr>\n",
       "      <th>15</th>\n",
       "      <td>Male</td>\n",
       "      <td>No</td>\n",
       "      <td>0</td>\n",
       "      <td>Graduate</td>\n",
       "      <td>No</td>\n",
       "      <td>4950</td>\n",
       "      <td>0.0</td>\n",
       "      <td>125.0</td>\n",
       "      <td>360.0</td>\n",
       "      <td>1.0</td>\n",
       "      <td>Urban</td>\n",
       "      <td>1</td>\n",
       "    </tr>\n",
       "    <tr>\n",
       "      <th>16</th>\n",
       "      <td>Male</td>\n",
       "      <td>No</td>\n",
       "      <td>1</td>\n",
       "      <td>Not Graduate</td>\n",
       "      <td>No</td>\n",
       "      <td>3596</td>\n",
       "      <td>0.0</td>\n",
       "      <td>100.0</td>\n",
       "      <td>240.0</td>\n",
       "      <td>1.0</td>\n",
       "      <td>Urban</td>\n",
       "      <td>1</td>\n",
       "    </tr>\n",
       "    <tr>\n",
       "      <th>17</th>\n",
       "      <td>Female</td>\n",
       "      <td>No</td>\n",
       "      <td>0</td>\n",
       "      <td>Graduate</td>\n",
       "      <td>No</td>\n",
       "      <td>3510</td>\n",
       "      <td>0.0</td>\n",
       "      <td>76.0</td>\n",
       "      <td>360.0</td>\n",
       "      <td>0.0</td>\n",
       "      <td>Urban</td>\n",
       "      <td>0</td>\n",
       "    </tr>\n",
       "    <tr>\n",
       "      <th>18</th>\n",
       "      <td>Male</td>\n",
       "      <td>Yes</td>\n",
       "      <td>0</td>\n",
       "      <td>Not Graduate</td>\n",
       "      <td>No</td>\n",
       "      <td>4887</td>\n",
       "      <td>0.0</td>\n",
       "      <td>133.0</td>\n",
       "      <td>360.0</td>\n",
       "      <td>1.0</td>\n",
       "      <td>Rural</td>\n",
       "      <td>0</td>\n",
       "    </tr>\n",
       "    <tr>\n",
       "      <th>19</th>\n",
       "      <td>Male</td>\n",
       "      <td>Yes</td>\n",
       "      <td>0</td>\n",
       "      <td>Graduate</td>\n",
       "      <td>No</td>\n",
       "      <td>2600</td>\n",
       "      <td>3500.0</td>\n",
       "      <td>115.0</td>\n",
       "      <td>360.0</td>\n",
       "      <td>1.0</td>\n",
       "      <td>Urban</td>\n",
       "      <td>1</td>\n",
       "    </tr>\n",
       "  </tbody>\n",
       "</table>\n",
       "</div>"
      ],
      "text/plain": [
       "    Gender Married Dependents     Education Self_Employed  ApplicantIncome  \\\n",
       "0     Male      No          0      Graduate            No             5849   \n",
       "1     Male     Yes          1      Graduate            No             4583   \n",
       "2     Male     Yes          0      Graduate           Yes             3000   \n",
       "3     Male     Yes          0  Not Graduate            No             2583   \n",
       "4     Male      No          0      Graduate            No             6000   \n",
       "5     Male     Yes          2      Graduate           Yes             5417   \n",
       "6     Male     Yes          0  Not Graduate            No             2333   \n",
       "7     Male     Yes         3+      Graduate            No             3036   \n",
       "8     Male     Yes          2      Graduate            No             4006   \n",
       "9     Male     Yes          1      Graduate            No            12841   \n",
       "10    Male     Yes          2      Graduate            No             3200   \n",
       "11    Male     Yes          2      Graduate            No             2500   \n",
       "12    Male     Yes          2      Graduate            No             3073   \n",
       "13    Male      No          0      Graduate            No             1853   \n",
       "14    Male     Yes          2      Graduate            No             1299   \n",
       "15    Male      No          0      Graduate            No             4950   \n",
       "16    Male      No          1  Not Graduate            No             3596   \n",
       "17  Female      No          0      Graduate            No             3510   \n",
       "18    Male     Yes          0  Not Graduate            No             4887   \n",
       "19    Male     Yes          0      Graduate            No             2600   \n",
       "\n",
       "    CoapplicantIncome  LoanAmount  Loan_Amount_Term  Credit_History  \\\n",
       "0                 0.0       128.0             360.0             1.0   \n",
       "1              1508.0       128.0             360.0             1.0   \n",
       "2                 0.0        66.0             360.0             1.0   \n",
       "3              2358.0       120.0             360.0             1.0   \n",
       "4                 0.0       141.0             360.0             1.0   \n",
       "5              4196.0       267.0             360.0             1.0   \n",
       "6              1516.0        95.0             360.0             1.0   \n",
       "7              2504.0       158.0             360.0             0.0   \n",
       "8              1526.0       168.0             360.0             1.0   \n",
       "9             10968.0       349.0             360.0             1.0   \n",
       "10              700.0        70.0             360.0             1.0   \n",
       "11             1840.0       109.0             360.0             1.0   \n",
       "12             8106.0       200.0             360.0             1.0   \n",
       "13             2840.0       114.0             360.0             1.0   \n",
       "14             1086.0        17.0             120.0             1.0   \n",
       "15                0.0       125.0             360.0             1.0   \n",
       "16                0.0       100.0             240.0             1.0   \n",
       "17                0.0        76.0             360.0             0.0   \n",
       "18                0.0       133.0             360.0             1.0   \n",
       "19             3500.0       115.0             360.0             1.0   \n",
       "\n",
       "   Property_Area  Loan_Status  \n",
       "0          Urban            1  \n",
       "1          Rural            0  \n",
       "2          Urban            1  \n",
       "3          Urban            1  \n",
       "4          Urban            1  \n",
       "5          Urban            1  \n",
       "6          Urban            1  \n",
       "7      Semiurban            0  \n",
       "8          Urban            1  \n",
       "9      Semiurban            0  \n",
       "10         Urban            1  \n",
       "11         Urban            1  \n",
       "12         Urban            1  \n",
       "13         Rural            0  \n",
       "14         Urban            1  \n",
       "15         Urban            1  \n",
       "16         Urban            1  \n",
       "17         Urban            0  \n",
       "18         Rural            0  \n",
       "19         Urban            1  "
      ]
     },
     "execution_count": 321,
     "metadata": {},
     "output_type": "execute_result"
    }
   ],
   "source": [
    "train.head(20)"
   ]
  },
  {
   "cell_type": "code",
   "execution_count": 322,
   "metadata": {},
   "outputs": [
    {
     "name": "stdout",
     "output_type": "stream",
     "text": [
      "Gender               0\n",
      "Married              0\n",
      "Dependents           0\n",
      "Education            0\n",
      "Self_Employed        0\n",
      "ApplicantIncome      0\n",
      "CoapplicantIncome    0\n",
      "LoanAmount           0\n",
      "Loan_Amount_Term     0\n",
      "Credit_History       0\n",
      "Property_Area        0\n",
      "Loan_Status          0\n",
      "dtype: int64\n",
      "------------------------------------------------------------\n",
      "Gender                object\n",
      "Married               object\n",
      "Dependents            object\n",
      "Education             object\n",
      "Self_Employed         object\n",
      "ApplicantIncome        int64\n",
      "CoapplicantIncome    float64\n",
      "LoanAmount           float64\n",
      "Loan_Amount_Term     float64\n",
      "Credit_History       float64\n",
      "Property_Area         object\n",
      "Loan_Status            int64\n",
      "dtype: object\n"
     ]
    }
   ],
   "source": [
    "print(train.isnull().sum())\n",
    "print(\"-\"*60)\n",
    "print(train.dtypes)"
   ]
  },
  {
   "cell_type": "code",
   "execution_count": 323,
   "metadata": {},
   "outputs": [],
   "source": [
    "# train['Dependents'].dtypes"
   ]
  },
  {
   "cell_type": "code",
   "execution_count": 324,
   "metadata": {},
   "outputs": [],
   "source": [
    "# Gender\n",
    "train['Gender'] = train['Gender'].map({\"Male\":1, \"Female\":0})\n",
    "test['Gender'] = test['Gender'].map({\"Male\":1, \"Female\":0})\n",
    "# Marrital Status\n",
    "train['Married'] = train['Married'].map({'Yes':1, 'No':0})\n",
    "test['Married'] = test['Married'].map({'Yes':1, 'No':0})\n",
    "# Dependents\n",
    "train['Dependents'] = train['Dependents'].map({'0':0,'1':1,'2':2,'3+':3})\n",
    "test['Dependents'] = test['Dependents'].map({'0':0,'1':1,'2':2,'3+':3})\n",
    "# Education Status\n",
    "train['Education'] = train['Education'].map({'Graduate':1, 'Not Graduate':0})\n",
    "test['Education'] = test['Education'].map({'Graduate':1, 'Not Graduate':0})\n",
    "# Employment Status\n",
    "train['Self_Employed'] = train['Self_Employed'].map({'Yes':1, 'No':0})\n",
    "test['Self_Employed'] = test['Self_Employed'].map({'Yes':1, 'No':0})\n",
    "#Property Area\n",
    "train['Property_Area'] = train['Property_Area'].map({'Urban':2, 'Rural':0,'Semiurban':1})\n",
    "test['Property_Area'] = test['Property_Area'].map({'Urban':2, 'Rural':0,'Semiurban':1})"
   ]
  },
  {
   "cell_type": "code",
   "execution_count": 325,
   "metadata": {},
   "outputs": [
    {
     "data": {
      "text/html": [
       "<div>\n",
       "<style scoped>\n",
       "    .dataframe tbody tr th:only-of-type {\n",
       "        vertical-align: middle;\n",
       "    }\n",
       "\n",
       "    .dataframe tbody tr th {\n",
       "        vertical-align: top;\n",
       "    }\n",
       "\n",
       "    .dataframe thead th {\n",
       "        text-align: right;\n",
       "    }\n",
       "</style>\n",
       "<table border=\"1\" class=\"dataframe\">\n",
       "  <thead>\n",
       "    <tr style=\"text-align: right;\">\n",
       "      <th></th>\n",
       "      <th>Gender</th>\n",
       "      <th>Married</th>\n",
       "      <th>Dependents</th>\n",
       "      <th>Education</th>\n",
       "      <th>Self_Employed</th>\n",
       "      <th>ApplicantIncome</th>\n",
       "      <th>CoapplicantIncome</th>\n",
       "      <th>LoanAmount</th>\n",
       "      <th>Loan_Amount_Term</th>\n",
       "      <th>Credit_History</th>\n",
       "      <th>Property_Area</th>\n",
       "      <th>Loan_Status</th>\n",
       "    </tr>\n",
       "  </thead>\n",
       "  <tbody>\n",
       "    <tr>\n",
       "      <th>0</th>\n",
       "      <td>1</td>\n",
       "      <td>0</td>\n",
       "      <td>0</td>\n",
       "      <td>1</td>\n",
       "      <td>0</td>\n",
       "      <td>5849</td>\n",
       "      <td>0.0</td>\n",
       "      <td>128.0</td>\n",
       "      <td>360.0</td>\n",
       "      <td>1.0</td>\n",
       "      <td>2</td>\n",
       "      <td>1</td>\n",
       "    </tr>\n",
       "    <tr>\n",
       "      <th>1</th>\n",
       "      <td>1</td>\n",
       "      <td>1</td>\n",
       "      <td>1</td>\n",
       "      <td>1</td>\n",
       "      <td>0</td>\n",
       "      <td>4583</td>\n",
       "      <td>1508.0</td>\n",
       "      <td>128.0</td>\n",
       "      <td>360.0</td>\n",
       "      <td>1.0</td>\n",
       "      <td>0</td>\n",
       "      <td>0</td>\n",
       "    </tr>\n",
       "    <tr>\n",
       "      <th>2</th>\n",
       "      <td>1</td>\n",
       "      <td>1</td>\n",
       "      <td>0</td>\n",
       "      <td>1</td>\n",
       "      <td>1</td>\n",
       "      <td>3000</td>\n",
       "      <td>0.0</td>\n",
       "      <td>66.0</td>\n",
       "      <td>360.0</td>\n",
       "      <td>1.0</td>\n",
       "      <td>2</td>\n",
       "      <td>1</td>\n",
       "    </tr>\n",
       "    <tr>\n",
       "      <th>3</th>\n",
       "      <td>1</td>\n",
       "      <td>1</td>\n",
       "      <td>0</td>\n",
       "      <td>0</td>\n",
       "      <td>0</td>\n",
       "      <td>2583</td>\n",
       "      <td>2358.0</td>\n",
       "      <td>120.0</td>\n",
       "      <td>360.0</td>\n",
       "      <td>1.0</td>\n",
       "      <td>2</td>\n",
       "      <td>1</td>\n",
       "    </tr>\n",
       "    <tr>\n",
       "      <th>4</th>\n",
       "      <td>1</td>\n",
       "      <td>0</td>\n",
       "      <td>0</td>\n",
       "      <td>1</td>\n",
       "      <td>0</td>\n",
       "      <td>6000</td>\n",
       "      <td>0.0</td>\n",
       "      <td>141.0</td>\n",
       "      <td>360.0</td>\n",
       "      <td>1.0</td>\n",
       "      <td>2</td>\n",
       "      <td>1</td>\n",
       "    </tr>\n",
       "  </tbody>\n",
       "</table>\n",
       "</div>"
      ],
      "text/plain": [
       "   Gender  Married  Dependents  Education  Self_Employed  ApplicantIncome  \\\n",
       "0       1        0           0          1              0             5849   \n",
       "1       1        1           1          1              0             4583   \n",
       "2       1        1           0          1              1             3000   \n",
       "3       1        1           0          0              0             2583   \n",
       "4       1        0           0          1              0             6000   \n",
       "\n",
       "   CoapplicantIncome  LoanAmount  Loan_Amount_Term  Credit_History  \\\n",
       "0                0.0       128.0             360.0             1.0   \n",
       "1             1508.0       128.0             360.0             1.0   \n",
       "2                0.0        66.0             360.0             1.0   \n",
       "3             2358.0       120.0             360.0             1.0   \n",
       "4                0.0       141.0             360.0             1.0   \n",
       "\n",
       "   Property_Area  Loan_Status  \n",
       "0              2            1  \n",
       "1              0            0  \n",
       "2              2            1  \n",
       "3              2            1  \n",
       "4              2            1  "
      ]
     },
     "execution_count": 325,
     "metadata": {},
     "output_type": "execute_result"
    }
   ],
   "source": [
    "train.head()"
   ]
  },
  {
   "cell_type": "code",
   "execution_count": 326,
   "metadata": {
    "scrolled": true
   },
   "outputs": [
    {
     "name": "stdout",
     "output_type": "stream",
     "text": [
      "Gender               0\n",
      "Married              0\n",
      "Dependents           0\n",
      "Education            0\n",
      "Self_Employed        0\n",
      "ApplicantIncome      0\n",
      "CoapplicantIncome    0\n",
      "LoanAmount           0\n",
      "Loan_Amount_Term     0\n",
      "Credit_History       0\n",
      "Property_Area        0\n",
      "Loan_Status          0\n",
      "dtype: int64\n",
      "------------------------------------------------------------\n",
      "Gender                 int64\n",
      "Married                int64\n",
      "Dependents             int64\n",
      "Education              int64\n",
      "Self_Employed          int64\n",
      "ApplicantIncome        int64\n",
      "CoapplicantIncome    float64\n",
      "LoanAmount           float64\n",
      "Loan_Amount_Term     float64\n",
      "Credit_History       float64\n",
      "Property_Area          int64\n",
      "Loan_Status            int64\n",
      "dtype: object\n",
      "------------------------------------------------------------\n",
      "0    360\n",
      "1    102\n",
      "2    101\n",
      "3     51\n",
      "Name: Dependents, dtype: int64\n"
     ]
    }
   ],
   "source": [
    "print(train.isnull().sum())\n",
    "print(\"-\"*60)\n",
    "print(train.dtypes)\n",
    "print(\"-\"*60)\n",
    "print(train['Dependents'].value_counts())"
   ]
  },
  {
   "cell_type": "code",
   "execution_count": 327,
   "metadata": {},
   "outputs": [
    {
     "data": {
      "text/plain": [
       "Gender               0\n",
       "Married              0\n",
       "Dependents           0\n",
       "Education            0\n",
       "Self_Employed        0\n",
       "ApplicantIncome      0\n",
       "CoapplicantIncome    0\n",
       "LoanAmount           0\n",
       "Loan_Amount_Term     0\n",
       "Credit_History       0\n",
       "Property_Area        0\n",
       "Loan_Status          0\n",
       "dtype: int64"
      ]
     },
     "execution_count": 327,
     "metadata": {},
     "output_type": "execute_result"
    }
   ],
   "source": [
    "from sklearn.preprocessing import LabelEncoder\n",
    "le = LabelEncoder()\n",
    "# train['Dependents'] = le.fit_transform(train['Dependents'])\n",
    "train.isnull().sum()"
   ]
  },
  {
   "cell_type": "code",
   "execution_count": 328,
   "metadata": {},
   "outputs": [],
   "source": [
    "# Independent Variable\n",
    "X = train.drop('Loan_Status',axis=1)\n",
    "\n",
    "# Dependent Variable(target)\n",
    "y= train.Loan_Status"
   ]
  },
  {
   "cell_type": "code",
   "execution_count": 329,
   "metadata": {},
   "outputs": [
    {
     "data": {
      "text/html": [
       "<div>\n",
       "<style scoped>\n",
       "    .dataframe tbody tr th:only-of-type {\n",
       "        vertical-align: middle;\n",
       "    }\n",
       "\n",
       "    .dataframe tbody tr th {\n",
       "        vertical-align: top;\n",
       "    }\n",
       "\n",
       "    .dataframe thead th {\n",
       "        text-align: right;\n",
       "    }\n",
       "</style>\n",
       "<table border=\"1\" class=\"dataframe\">\n",
       "  <thead>\n",
       "    <tr style=\"text-align: right;\">\n",
       "      <th></th>\n",
       "      <th>Gender</th>\n",
       "      <th>Married</th>\n",
       "      <th>Dependents</th>\n",
       "      <th>Education</th>\n",
       "      <th>Self_Employed</th>\n",
       "      <th>ApplicantIncome</th>\n",
       "      <th>CoapplicantIncome</th>\n",
       "      <th>LoanAmount</th>\n",
       "      <th>Loan_Amount_Term</th>\n",
       "      <th>Credit_History</th>\n",
       "      <th>Property_Area</th>\n",
       "    </tr>\n",
       "  </thead>\n",
       "  <tbody>\n",
       "    <tr>\n",
       "      <th>0</th>\n",
       "      <td>1</td>\n",
       "      <td>0</td>\n",
       "      <td>0</td>\n",
       "      <td>1</td>\n",
       "      <td>0</td>\n",
       "      <td>5849</td>\n",
       "      <td>0.0</td>\n",
       "      <td>128.0</td>\n",
       "      <td>360.0</td>\n",
       "      <td>1.0</td>\n",
       "      <td>2</td>\n",
       "    </tr>\n",
       "    <tr>\n",
       "      <th>1</th>\n",
       "      <td>1</td>\n",
       "      <td>1</td>\n",
       "      <td>1</td>\n",
       "      <td>1</td>\n",
       "      <td>0</td>\n",
       "      <td>4583</td>\n",
       "      <td>1508.0</td>\n",
       "      <td>128.0</td>\n",
       "      <td>360.0</td>\n",
       "      <td>1.0</td>\n",
       "      <td>0</td>\n",
       "    </tr>\n",
       "    <tr>\n",
       "      <th>2</th>\n",
       "      <td>1</td>\n",
       "      <td>1</td>\n",
       "      <td>0</td>\n",
       "      <td>1</td>\n",
       "      <td>1</td>\n",
       "      <td>3000</td>\n",
       "      <td>0.0</td>\n",
       "      <td>66.0</td>\n",
       "      <td>360.0</td>\n",
       "      <td>1.0</td>\n",
       "      <td>2</td>\n",
       "    </tr>\n",
       "    <tr>\n",
       "      <th>3</th>\n",
       "      <td>1</td>\n",
       "      <td>1</td>\n",
       "      <td>0</td>\n",
       "      <td>0</td>\n",
       "      <td>0</td>\n",
       "      <td>2583</td>\n",
       "      <td>2358.0</td>\n",
       "      <td>120.0</td>\n",
       "      <td>360.0</td>\n",
       "      <td>1.0</td>\n",
       "      <td>2</td>\n",
       "    </tr>\n",
       "    <tr>\n",
       "      <th>4</th>\n",
       "      <td>1</td>\n",
       "      <td>0</td>\n",
       "      <td>0</td>\n",
       "      <td>1</td>\n",
       "      <td>0</td>\n",
       "      <td>6000</td>\n",
       "      <td>0.0</td>\n",
       "      <td>141.0</td>\n",
       "      <td>360.0</td>\n",
       "      <td>1.0</td>\n",
       "      <td>2</td>\n",
       "    </tr>\n",
       "    <tr>\n",
       "      <th>...</th>\n",
       "      <td>...</td>\n",
       "      <td>...</td>\n",
       "      <td>...</td>\n",
       "      <td>...</td>\n",
       "      <td>...</td>\n",
       "      <td>...</td>\n",
       "      <td>...</td>\n",
       "      <td>...</td>\n",
       "      <td>...</td>\n",
       "      <td>...</td>\n",
       "      <td>...</td>\n",
       "    </tr>\n",
       "    <tr>\n",
       "      <th>609</th>\n",
       "      <td>0</td>\n",
       "      <td>0</td>\n",
       "      <td>0</td>\n",
       "      <td>1</td>\n",
       "      <td>0</td>\n",
       "      <td>2900</td>\n",
       "      <td>0.0</td>\n",
       "      <td>71.0</td>\n",
       "      <td>360.0</td>\n",
       "      <td>1.0</td>\n",
       "      <td>0</td>\n",
       "    </tr>\n",
       "    <tr>\n",
       "      <th>610</th>\n",
       "      <td>1</td>\n",
       "      <td>1</td>\n",
       "      <td>3</td>\n",
       "      <td>1</td>\n",
       "      <td>0</td>\n",
       "      <td>4106</td>\n",
       "      <td>0.0</td>\n",
       "      <td>40.0</td>\n",
       "      <td>180.0</td>\n",
       "      <td>1.0</td>\n",
       "      <td>0</td>\n",
       "    </tr>\n",
       "    <tr>\n",
       "      <th>611</th>\n",
       "      <td>1</td>\n",
       "      <td>1</td>\n",
       "      <td>1</td>\n",
       "      <td>1</td>\n",
       "      <td>0</td>\n",
       "      <td>8072</td>\n",
       "      <td>240.0</td>\n",
       "      <td>253.0</td>\n",
       "      <td>360.0</td>\n",
       "      <td>1.0</td>\n",
       "      <td>2</td>\n",
       "    </tr>\n",
       "    <tr>\n",
       "      <th>612</th>\n",
       "      <td>1</td>\n",
       "      <td>1</td>\n",
       "      <td>2</td>\n",
       "      <td>1</td>\n",
       "      <td>0</td>\n",
       "      <td>7583</td>\n",
       "      <td>0.0</td>\n",
       "      <td>187.0</td>\n",
       "      <td>360.0</td>\n",
       "      <td>1.0</td>\n",
       "      <td>2</td>\n",
       "    </tr>\n",
       "    <tr>\n",
       "      <th>613</th>\n",
       "      <td>0</td>\n",
       "      <td>0</td>\n",
       "      <td>0</td>\n",
       "      <td>1</td>\n",
       "      <td>1</td>\n",
       "      <td>4583</td>\n",
       "      <td>0.0</td>\n",
       "      <td>133.0</td>\n",
       "      <td>360.0</td>\n",
       "      <td>0.0</td>\n",
       "      <td>1</td>\n",
       "    </tr>\n",
       "  </tbody>\n",
       "</table>\n",
       "<p>614 rows × 11 columns</p>\n",
       "</div>"
      ],
      "text/plain": [
       "     Gender  Married  Dependents  Education  Self_Employed  ApplicantIncome  \\\n",
       "0         1        0           0          1              0             5849   \n",
       "1         1        1           1          1              0             4583   \n",
       "2         1        1           0          1              1             3000   \n",
       "3         1        1           0          0              0             2583   \n",
       "4         1        0           0          1              0             6000   \n",
       "..      ...      ...         ...        ...            ...              ...   \n",
       "609       0        0           0          1              0             2900   \n",
       "610       1        1           3          1              0             4106   \n",
       "611       1        1           1          1              0             8072   \n",
       "612       1        1           2          1              0             7583   \n",
       "613       0        0           0          1              1             4583   \n",
       "\n",
       "     CoapplicantIncome  LoanAmount  Loan_Amount_Term  Credit_History  \\\n",
       "0                  0.0       128.0             360.0             1.0   \n",
       "1               1508.0       128.0             360.0             1.0   \n",
       "2                  0.0        66.0             360.0             1.0   \n",
       "3               2358.0       120.0             360.0             1.0   \n",
       "4                  0.0       141.0             360.0             1.0   \n",
       "..                 ...         ...               ...             ...   \n",
       "609                0.0        71.0             360.0             1.0   \n",
       "610                0.0        40.0             180.0             1.0   \n",
       "611              240.0       253.0             360.0             1.0   \n",
       "612                0.0       187.0             360.0             1.0   \n",
       "613                0.0       133.0             360.0             0.0   \n",
       "\n",
       "     Property_Area  \n",
       "0                2  \n",
       "1                0  \n",
       "2                2  \n",
       "3                2  \n",
       "4                2  \n",
       "..             ...  \n",
       "609              0  \n",
       "610              0  \n",
       "611              2  \n",
       "612              2  \n",
       "613              1  \n",
       "\n",
       "[614 rows x 11 columns]"
      ]
     },
     "execution_count": 329,
     "metadata": {},
     "output_type": "execute_result"
    }
   ],
   "source": [
    "X"
   ]
  },
  {
   "cell_type": "code",
   "execution_count": 330,
   "metadata": {},
   "outputs": [
    {
     "data": {
      "text/plain": [
       "0      1\n",
       "1      0\n",
       "2      1\n",
       "3      1\n",
       "4      1\n",
       "      ..\n",
       "609    1\n",
       "610    1\n",
       "611    1\n",
       "612    1\n",
       "613    0\n",
       "Name: Loan_Status, Length: 614, dtype: int64"
      ]
     },
     "execution_count": 330,
     "metadata": {},
     "output_type": "execute_result"
    }
   ],
   "source": [
    "y"
   ]
  },
  {
   "cell_type": "markdown",
   "metadata": {},
   "source": [
    "#### Splitting the dataseet into train and validate\n",
    "We will need to split our train dataset into training and validation sets. After training the model on the train part, we use the same model to make predictions for the validation part. The validation set is actually a part of the train dataset, which we will use to validate the prediction results with the actual results."
   ]
  },
  {
   "cell_type": "code",
   "execution_count": 331,
   "metadata": {},
   "outputs": [],
   "source": [
    "from sklearn.model_selection import train_test_split\n",
    "X_train, X_test, y_train, y_test = train_test_split(X,y,test_size=0.25, random_state=0)"
   ]
  },
  {
   "cell_type": "code",
   "execution_count": 332,
   "metadata": {},
   "outputs": [
    {
     "data": {
      "text/plain": [
       "((460, 11), (154, 11), (460,), (154,))"
      ]
     },
     "execution_count": 332,
     "metadata": {},
     "output_type": "execute_result"
    }
   ],
   "source": [
    "X_train.shape, X_test.shape, y_train.shape, y_test.shape"
   ]
  },
  {
   "cell_type": "markdown",
   "metadata": {},
   "source": [
    "# Model Building\n",
    "Building model with different classification Machine Learning algorithms "
   ]
  },
  {
   "cell_type": "code",
   "execution_count": 333,
   "metadata": {},
   "outputs": [],
   "source": [
    "from sklearn.linear_model import LogisticRegression\n",
    "from sklearn.svm import SVC\n",
    "from sklearn.neighbors import KNeighborsClassifier\n",
    "from sklearn.tree import DecisionTreeClassifier\n",
    "from sklearn.ensemble import RandomForestClassifier\n",
    "from xgboost import XGBClassifier"
   ]
  },
  {
   "cell_type": "code",
   "execution_count": 334,
   "metadata": {},
   "outputs": [],
   "source": [
    "# creating dictionary of all classifier \n",
    "classifiers = {\n",
    "    'LogisticRegression': LogisticRegression(),\n",
    "    'SUpport Vector Classifier': SVC(),\n",
    "    'KNeighborsClassifier': KNeighborsClassifier(),\n",
    "    'DecisionTreeClassifier': DecisionTreeClassifier(),\n",
    "    'RandomForestClassifier': RandomForestClassifier()\n",
    "}"
   ]
  },
  {
   "cell_type": "code",
   "execution_count": 335,
   "metadata": {},
   "outputs": [
    {
     "name": "stdout",
     "output_type": "stream",
     "text": [
      "\n",
      "Classifiers:  LogisticRegression Has a training score of 79.0 % accuracy score\n",
      "\n",
      "Classifiers:  SVC Has a training score of 67.0 % accuracy score\n",
      "\n",
      "Classifiers:  KNeighborsClassifier Has a training score of 65.0 % accuracy score\n",
      "\n",
      "Classifiers:  DecisionTreeClassifier Has a training score of 70.0 % accuracy score\n",
      "\n",
      "Classifiers:  RandomForestClassifier Has a training score of 77.0 % accuracy score\n"
     ]
    }
   ],
   "source": [
    "from sklearn.model_selection import cross_val_score\n",
    "\n",
    "for key, classifier in classifiers.items():\n",
    "    classifier.fit(X_train, y_train)\n",
    "    training_score = cross_val_score(classifier, X_train, y_train, cv=5)\n",
    "    print(\"\\nClassifiers: \", classifier.__class__.__name__, \"Has a training score of\", round(training_score.mean(), 2) * 100, \"% accuracy score\")"
   ]
  },
  {
   "cell_type": "markdown",
   "metadata": {},
   "source": [
    "---\n",
    "* From above results we can cleary see that **LogisticRegression** is a winner here, but without hyperparameter tunning we cannot judge above results so quickly.\n",
    "---"
   ]
  },
  {
   "cell_type": "markdown",
   "metadata": {},
   "source": [
    "## Hyperparameter tunning"
   ]
  },
  {
   "cell_type": "code",
   "execution_count": 336,
   "metadata": {},
   "outputs": [
    {
     "name": "stdout",
     "output_type": "stream",
     "text": [
      "{'C': 10, 'penalty': 'l1', 'solver': 'liblinear'}\n"
     ]
    }
   ],
   "source": [
    "# using GridSearchCV to find the best parameters.\n",
    "from sklearn.model_selection import GridSearchCV\n",
    "\n",
    "log_reg_params = {\"penalty\":['l1','l2'], 'C':[0.001, 0.01, 0.1,1,10,100],'solver':['liblinear']}\n",
    "grid_log_reg = GridSearchCV(LogisticRegression(),log_reg_params)\n",
    "grid_log_reg.fit(X_train, y_train)\n",
    "\n",
    "# Best parameters\n",
    "log_reg = grid_log_reg.best_params_\n",
    "\n",
    "print(log_reg)"
   ]
  },
  {
   "cell_type": "code",
   "execution_count": 337,
   "metadata": {},
   "outputs": [
    {
     "name": "stdout",
     "output_type": "stream",
     "text": [
      "{'algorithm': 'auto', 'n_neighbors': 5}\n"
     ]
    }
   ],
   "source": [
    "# KNN\n",
    "knn_params = {\"n_neighbors\":[1,3,5], 'algorithm':['auto']}\n",
    "grid_knn = GridSearchCV(KNeighborsClassifier(),knn_params)\n",
    "grid_knn.fit(X_train, y_train)\n",
    "knn = grid_knn.best_params_\n",
    "print(knn)"
   ]
  },
  {
   "cell_type": "code",
   "execution_count": 338,
   "metadata": {},
   "outputs": [
    {
     "name": "stdout",
     "output_type": "stream",
     "text": [
      "{'C': 0.5, 'kernel': 'rbf'}\n"
     ]
    }
   ],
   "source": [
    "# SVC\n",
    "svc_params = {'C':[0.5,1], 'kernel':['rbf','sigmoid']}\n",
    "grid_svc = GridSearchCV(SVC(), svc_params)\n",
    "grid_svc.fit(X_train, y_train)\n",
    "svc = grid_svc.best_params_\n",
    "print(svc)"
   ]
  },
  {
   "cell_type": "code",
   "execution_count": 339,
   "metadata": {},
   "outputs": [
    {
     "name": "stdout",
     "output_type": "stream",
     "text": [
      "{'criterion': 'gini', 'max_depth': 2, 'min_samples_leaf': 5}\n"
     ]
    }
   ],
   "source": [
    "# Decision Tree\n",
    "tree_params = {'criterion':['gini','entropy'],\"max_depth\":[2,4,6],\"min_samples_leaf\":[5,7,9,]}\n",
    "grid_tree = GridSearchCV(DecisionTreeClassifier(), tree_params)\n",
    "grid_tree.fit(X_train, y_train)\n",
    "dcTree = grid_tree.best_params_\n",
    "print(dcTree)"
   ]
  },
  {
   "cell_type": "code",
   "execution_count": 340,
   "metadata": {},
   "outputs": [
    {
     "name": "stdout",
     "output_type": "stream",
     "text": [
      "{'bootstrap': True, 'max_features': 'sqrt', 'min_samples_leaf': 2, 'n_estimators': 200}\n"
     ]
    }
   ],
   "source": [
    "# RandomForest\n",
    "rf_params = {'n_estimators':[100,200,300],'max_features':['auto','sqrt'],\"min_samples_leaf\":[1,2,4],\"bootstrap\":[True, False]}\n",
    "grid_rf = GridSearchCV(RandomForestClassifier(),rf_params)\n",
    "grid_rf.fit(X_train, y_train)\n",
    "rf = grid_rf.best_params_\n",
    "print(rf)"
   ]
  },
  {
   "cell_type": "code",
   "execution_count": 341,
   "metadata": {},
   "outputs": [],
   "source": [
    "# RandomForestClassifier().get_params().keys()"
   ]
  },
  {
   "cell_type": "code",
   "execution_count": 342,
   "metadata": {},
   "outputs": [
    {
     "name": "stdout",
     "output_type": "stream",
     "text": [
      "Logistic Regression:  80.0 % accuracy score\n",
      "Support Vector Machine:  68.0 % accuracy score\n",
      "KNeighbors:  65.0 % accuracy score\n",
      "Decision Tree:  80.0 % accuracy score\n",
      "Random Forest:  79.0 % accuracy score\n"
     ]
    }
   ],
   "source": [
    "# Overfitting Case\n",
    "# classifiers_params = {\n",
    "#     'LogisticRegression': LogisticRegression(C=10, penalty= 'l1', solver= 'liblinear'),\n",
    "#     'SUpport Vector Classifier': SVC(C= 0.5, kernel= 'rbf'),\n",
    "#     'KNeighborsClassifier': KNeighborsClassifier(algorithm= 'auto', n_neighbors= 5),\n",
    "#     'DecisionTreeClassifier': DecisionTreeClassifier(criterion= 'gini', max_depth= 2, min_samples_leaf= 5),\n",
    "#     'RandomForestClassifier': RandomForestClassifier(bootstrap= True, max_features= 'auto', min_samples_leaf= 4, n_estimators= 200)\n",
    "# }\n",
    "\n",
    "\n",
    "# Logistic Regression\n",
    "log_reg =  LogisticRegression(C=10, penalty= 'l1', solver= 'liblinear')\n",
    "log_reg.fit(X_train, y_train)\n",
    "log_score = cross_val_score(log_reg, X_train, y_train,cv=5)\n",
    "print('Logistic Regression: ', round(log_score.mean(),2)*100, \"% accuracy score\")\n",
    "\n",
    "# Support Vector Machine\n",
    "svc = SVC(C= 0.5, kernel= 'rbf', probability=True)\n",
    "svc.fit(X_train, y_train)\n",
    "svc_score = cross_val_score(svc, X_train, y_train,cv=5)\n",
    "print(\"Support Vector Machine: \", round(svc_score.mean(),2)*100, \"% accuracy score\")\n",
    "\n",
    "# KNeighbors\n",
    "knn = KNeighborsClassifier(algorithm= 'auto', n_neighbors= 5)\n",
    "knn.fit(X_train, y_train)\n",
    "knn_score = cross_val_score(knn, X_train, y_train,cv=5)\n",
    "print(\"KNeighbors: \", round(knn_score.mean(),2)*100, \"% accuracy score\")\n",
    "\n",
    "# Decision Tree\n",
    "dcTree = DecisionTreeClassifier(criterion= 'gini', max_depth= 2, min_samples_leaf= 5)\n",
    "dcTree.fit(X_train, y_train)\n",
    "dcTree_score = cross_val_score(dcTree, X_train, y_train, cv=5)\n",
    "print(\"Decision Tree: \", round(dcTree_score.mean(),2)*100, \"% accuracy score\")\n",
    "\n",
    "# Random Forest\n",
    "rf = RandomForestClassifier(bootstrap= True, max_features= 'auto', min_samples_leaf= 2, n_estimators= 200)\n",
    "rf.fit(X_train, y_train)\n",
    "rf_score = cross_val_score(rf, X_train, y_train, cv=5)\n",
    "print(\"Random Forest: \",  round(rf_score.mean(),2)*100, \"% accuracy score\")"
   ]
  },
  {
   "cell_type": "markdown",
   "metadata": {},
   "source": [
    "### Accuracy scores of all 5 classification algoriths. Before and After\n",
    "- LogisticRegression: 74.0 % || after: 80.%\n",
    "\n",
    "- SVC: 67.0 % || after: 68%\n",
    "\n",
    "- KNeighborsClassifier: 65.0 || after: 65.0%\n",
    "\n",
    "- DecisionTreeClassifier: 69.0 % || after: 80.0%\n",
    "\n",
    "- RandomForestClassifier: 67.0 % || after: 80.0%\n",
    "\n",
    "---\n",
    "*LogisticRegression* has same accuracy(80%) even after tunning. *DecisionTreeClassifier* improved by 10% after tunning, and *RandomForestClassifier* improved by only 3%. There is not much improvement in *SVC*, *KNeighborsClassifier*. Still we cannot directly choose them so for a selection we should evaluate all of them and then we will compare the models and select the best one.\n",
    "\n",
    "---"
   ]
  },
  {
   "cell_type": "markdown",
   "metadata": {},
   "source": [
    "# Model evaluation\n",
    "- Evaluation, comparison and selection"
   ]
  },
  {
   "cell_type": "code",
   "execution_count": 343,
   "metadata": {},
   "outputs": [
    {
     "name": "stdout",
     "output_type": "stream",
     "text": [
      "ROC_AUC_SCORE of models on Train Set\n",
      "\n",
      "Logistic Regression:  76\n",
      "Support Vector Machine:  41\n",
      "KNeighbors:  76\n",
      "Decision Tree:  72\n",
      "Random Forest:  99\n"
     ]
    },
    {
     "data": {
      "image/png": "[encoded data removed]",
      "text/plain": [
       "<Figure size 576x396 with 1 Axes>"
      ]
     },
     "metadata": {},
     "output_type": "display_data"
    }
   ],
   "source": [
    "# ROC CURVE and ROC-AUC score\n",
    "\n",
    "# On Train dataset\n",
    "\n",
    "from sklearn.metrics import roc_curve\n",
    "from sklearn.metrics import roc_auc_score\n",
    "\n",
    "# predict probabilities\n",
    "log_reg_proba = log_reg.predict_proba(X_train) \n",
    "svc_proba = svc.predict_proba(X_train)\n",
    "knn_proba = knn.predict_proba(X_train)\n",
    "dt_proba = dcTree.predict_proba(X_train)\n",
    "rf_proba = rf.predict_proba(X_train)\n",
    "\n",
    "# roc_auc_score\n",
    "log_reg_auc = round(roc_auc_score(y_train, log_reg_proba[:,1])*100)\n",
    "svc_auc = round(roc_auc_score(y_train,svc_proba[:,1])*100)\n",
    "knn_auc = round(roc_auc_score(y_train, knn_proba[:,1])*100)\n",
    "dt_auc =  round(roc_auc_score(y_train, dt_proba[:,1])*100)\n",
    "rf_auc = round(roc_auc_score(y_train, rf_proba[:,1])*100)\n",
    "\n",
    "print(\"ROC_AUC_SCORE of models on Train Set\\n\")\n",
    "print(\"Logistic Regression: \", log_reg_auc)\n",
    "print(\"Support Vector Machine: \", svc_auc)\n",
    "print(\"KNeighbors: \",knn_auc)\n",
    "print(\"Decision Tree: \",dt_auc)\n",
    "print(\"Random Forest: \",rf_auc)\n",
    "\n",
    "\n",
    "# roc curve for models\n",
    "\n",
    "fpr1, tpr1, thresh1 = roc_curve(y_train, log_reg_proba[:,1],pos_label=1)\n",
    "fpr2, tpr2, thresh2 = roc_curve(y_train, svc_proba[:,1],pos_label=1)\n",
    "fpr3, tpr3, thresh3 = roc_curve(y_train, knn_proba[:,1],pos_label=1)\n",
    "fpr4, tpr4, thresh4 = roc_curve(y_train, dt_proba[:,1],pos_label=1)\n",
    "fpr5, tpr5, thresh5 = roc_curve(y_train, rf_proba[:,1],pos_label=1)\n",
    "\n",
    "# roc curve for tpr = fpr \n",
    "random_probs = [0 for i in range(len(y_train))]\n",
    "p_fpr, p_tpr, _ = roc_curve(y_train, random_probs, pos_label=1)\n",
    "\n",
    "plt.style.use('seaborn')\n",
    "\n",
    "# plot roc curves\n",
    "plt.plot(fpr1, tpr1, linestyle='--',color='orange', label='Logistic Regression')\n",
    "plt.plot(fpr2, tpr2, linestyle='--',color='green', label='SVC')\n",
    "plt.plot(fpr3, tpr3, linestyle='--',color='yellow', label='KNN')\n",
    "plt.plot(fpr4, tpr4, linestyle='--',color='red', label='Decision Tree')\n",
    "plt.plot(fpr5, tpr5, linestyle='--',color='blue', label='Random Forest')\n",
    "plt.plot(p_fpr, p_tpr, linestyle='--', color='black')\n",
    "# title\n",
    "plt.title('ROC curve on Train Set')\n",
    "# x label\n",
    "plt.xlabel('False Positive Rate')\n",
    "# y label\n",
    "plt.ylabel('True Positive rate')\n",
    "\n",
    "plt.legend(loc='best')\n",
    "# plt.savefig('ROC',dpi=300)\n",
    "plt.show()"
   ]
  },
  {
   "cell_type": "markdown",
   "metadata": {},
   "source": [
    "-  Observation: From above results, *RandomForest, KNN and Logistic Regression* looks better, so now we will find the best between them but this time we will use our *Test Data*."
   ]
  },
  {
   "cell_type": "code",
   "execution_count": 344,
   "metadata": {},
   "outputs": [
    {
     "name": "stdout",
     "output_type": "stream",
     "text": [
      "ROC_AUC_SCORE of models on Test Set\n",
      "\n",
      "Logistic Regression:  75\n",
      "KNeighbors:  51\n",
      "Random Forest:  80\n"
     ]
    },
    {
     "data": {
      "image/png": "[encoded data removed]",
      "text/plain": [
       "<Figure size 576x396 with 1 Axes>"
      ]
     },
     "metadata": {},
     "output_type": "display_data"
    }
   ],
   "source": [
    "from sklearn.metrics import confusion_matrix\n",
    "from sklearn.metrics import classification_report\n",
    "\n",
    "log_reg_proba_test = log_reg.predict_proba(X_test) \n",
    "knn_proba_test = knn.predict_proba(X_test)\n",
    "rf_proba_test = rf.predict_proba(X_test)\n",
    "\n",
    "\n",
    "knn_auc_test = round(roc_auc_score(y_test, knn_proba_test[:,1])*100)\n",
    "log_reg_auc_test=  round(roc_auc_score(y_test, log_reg_proba_test[:,1])*100)\n",
    "rf_auc_test = round(roc_auc_score(y_test, rf_proba_test[:,1])*100)\n",
    "\n",
    "print(\"ROC_AUC_SCORE of models on Test Set\\n\")\n",
    "print(\"Logistic Regression: \", log_reg_auc_test)\n",
    "print(\"KNeighbors: \",knn_auc_test)\n",
    "print(\"Random Forest: \", rf_auc_test)\n",
    "\n",
    "fpr1, tpr1, thresh1 = roc_curve(y_test, log_reg_proba_test[:,1],pos_label=1)\n",
    "fpr2, tpr2, thresh2 = roc_curve(y_test, knn_proba_test[:,1],pos_label=1)\n",
    "fpr3, tpr3, thresh3 = roc_curve(y_test, rf_proba_test[:,1],pos_label=1)\n",
    "\n",
    "# roc curve for tpr = fpr \n",
    "random_probs = [0 for i in range(len(y_test))]\n",
    "p_fpr, p_tpr, _ = roc_curve(y_test, random_probs, pos_label=1)\n",
    "\n",
    "plt.style.use('seaborn')\n",
    "\n",
    "# plot roc curves\n",
    "plt.plot(fpr1, tpr1, linestyle='--',color='red', label='Logistic Regression')\n",
    "plt.plot(fpr2, tpr2, linestyle='--',color='green', label='KNN')\n",
    "plt.plot(fpr3, tpr3, linestyle='--',color='blue', label='RandomForest')\n",
    "\n",
    "plt.plot(p_fpr, p_tpr, linestyle='--', color='black')\n",
    "# title\n",
    "plt.title('ROC curve on Test Set')\n",
    "# x label\n",
    "plt.xlabel('False Positive Rate')\n",
    "# y label\n",
    "plt.ylabel('True Positive rate')\n",
    "\n",
    "plt.legend(loc='best')\n",
    "# plt.savefig('ROC',dpi=300)\n",
    "plt.show()"
   ]
  },
  {
   "cell_type": "markdown",
   "metadata": {},
   "source": [
    "- Observation on test set: Very poor performance by *KNN*, it goes beyond the threshold. Where *RandomForest and Logistic Regression* are still in the game and leading equally. \n",
    "\n",
    "## Model Selection:\n",
    "---\n",
    "- Well, ROC_AUC curves heled us to eliminate bad models so now we will see *Classification Report and Confusion Matrix* between the top 2 models and then we will select the best model for further process.\n",
    "---"
   ]
  },
  {
   "cell_type": "code",
   "execution_count": 345,
   "metadata": {},
   "outputs": [
    {
     "name": "stdout",
     "output_type": "stream",
     "text": [
      "Classification Report of Logisitic Regression: \n",
      "               precision    recall  f1-score   support\n",
      "\n",
      "           0       0.91      0.47      0.62        43\n",
      "           1       0.83      0.98      0.90       111\n",
      "\n",
      "    accuracy                           0.84       154\n",
      "   macro avg       0.87      0.72      0.76       154\n",
      "weighted avg       0.85      0.84      0.82       154\n",
      "\n",
      "----------------------------------------------------------------------\n",
      "Classification Report of Random Forest: \n",
      "               precision    recall  f1-score   support\n",
      "\n",
      "           0       0.83      0.44      0.58        43\n",
      "           1       0.82      0.96      0.88       111\n",
      "\n",
      "    accuracy                           0.82       154\n",
      "   macro avg       0.82      0.70      0.73       154\n",
      "weighted avg       0.82      0.82      0.80       154\n",
      "\n"
     ]
    }
   ],
   "source": [
    "log_reg_preds = log_reg.predict(X_test)\n",
    "rf_preds = rf.predict(X_test)\n",
    "\n",
    "print(\"Classification Report of Logisitic Regression: \\n\", classification_report(y_test, log_reg_preds))\n",
    "print(\"-\"*70)\n",
    "print(\"Classification Report of Random Forest: \\n\", classification_report(y_test, rf_preds))"
   ]
  },
  {
   "cell_type": "markdown",
   "metadata": {},
   "source": [
    "- Observation: Precision of the classification reports of both the models is very good bu recall is very pure in both reports. Our focus is on *Precision* than any other factor.\n",
    "\n",
    "\n",
    "- Why precision > recall? Precision is the ratio between the True Positives and all the Positives. For our problem statement, that would be the measure of applicants that we correctly identify having a Loan acceptance out of all the applicants actually having the acceptance. Where *recall* tells for the applicants who actually have an acceptance, how many we correctly identified as having loan acceptance. So aim is to choose the model with higher precision."
   ]
  },
  {
   "cell_type": "code",
   "execution_count": 346,
   "metadata": {},
   "outputs": [
    {
     "data": {
      "image/png": "[encoded data removed]",
      "text/plain": [
       "<Figure size 720x576 with 1 Axes>"
      ]
     },
     "metadata": {},
     "output_type": "display_data"
    }
   ],
   "source": [
    "# precision-recall curve\n",
    "from sklearn.metrics import precision_recall_curve\n",
    "\n",
    "precision1, recall1, thresholds1 = precision_recall_curve(y_test, log_reg_preds)\n",
    "precision2, recall2, thresholds2 = precision_recall_curve(y_test, rf_preds)\n",
    "\n",
    "plt.figure(figsize=(10,8))\n",
    "plt.plot([0,1],[0.5,0.5],'k--')\n",
    "plt.plot(recall1, precision1, label='Logistic Regression')\n",
    "plt.xlabel('recall')\n",
    "plt.ylabel('precision')\n",
    "plt.title('Logistic Regression PRC curve')\n",
    "plt.show()"
   ]
  },
  {
   "cell_type": "code",
   "execution_count": 347,
   "metadata": {},
   "outputs": [
    {
     "data": {
      "image/png": "[encoded data removed]",
      "text/plain": [
       "<Figure size 720x576 with 1 Axes>"
      ]
     },
     "metadata": {},
     "output_type": "display_data"
    }
   ],
   "source": [
    "plt.figure(figsize=(10,8))\n",
    "plt.plot([0,1],[0.5,0.5],'k--')\n",
    "plt.plot(recall2, precision2, label='Random Forest')\n",
    "plt.xlabel('recall')\n",
    "plt.ylabel('precision')\n",
    "plt.title('Random Forest PRC curve')\n",
    "plt.show()"
   ]
  },
  {
   "cell_type": "markdown",
   "metadata": {},
   "source": [
    "- Observation: precision-recall curves of both the classifiers looks simiilar so let's find confusion matrix."
   ]
  },
  {
   "cell_type": "code",
   "execution_count": 348,
   "metadata": {},
   "outputs": [
    {
     "data": {
      "image/png": "[encoded data removed]",
      "text/plain": [
       "<Figure size 1440x720 with 2 Axes>"
      ]
     },
     "metadata": {},
     "output_type": "display_data"
    }
   ],
   "source": [
    "# confusion matrix\n",
    "log_reg_cm = confusion_matrix(y_test, log_reg_preds)\n",
    "rf_cm = confusion_matrix(y_test, rf_preds)\n",
    "\n",
    "plt.figure(figsize=(20,10))\n",
    "plt.suptitle(\"Confusion Matrices \", fontsize=24)\n",
    "\n",
    "plt.subplot(1,2,1)\n",
    "plt.title(\"Logistic Regression\")\n",
    "sns.heatmap(log_reg_cm,cbar=False, cmap=\"Blues\", annot=True,annot_kws={'size':16},fmt='g')\n",
    "\n",
    "plt.subplot(1,2,2)\n",
    "plt.title(\"Random Forest\")\n",
    "sns.heatmap(rf_cm, cbar=False, cmap=\"Blues\",annot=True, annot_kws={'size':16},fmt='g')\n",
    "\n",
    "plt.show()"
   ]
  },
  {
   "cell_type": "markdown",
   "metadata": {},
   "source": [
    "- Observation: *True Positive* i.e.(1-1) in the confusion matrices of both the model has same value *109*, actually both are similar but here *Logistic Regression* has 1 values extra in *True Negative*. So selecting ***Logistic Regression*** for this problem statement."
   ]
  },
  {
   "cell_type": "code",
   "execution_count": 349,
   "metadata": {},
   "outputs": [
    {
     "name": "stdout",
     "output_type": "stream",
     "text": [
      "Logistic Regression's confusion matrix evaluation: \n"
     ]
    },
    {
     "data": {
      "text/html": [
       "<div>\n",
       "<style scoped>\n",
       "    .dataframe tbody tr th:only-of-type {\n",
       "        vertical-align: middle;\n",
       "    }\n",
       "\n",
       "    .dataframe tbody tr th {\n",
       "        vertical-align: top;\n",
       "    }\n",
       "\n",
       "    .dataframe thead th {\n",
       "        text-align: right;\n",
       "    }\n",
       "</style>\n",
       "<table border=\"1\" class=\"dataframe\">\n",
       "  <thead>\n",
       "    <tr style=\"text-align: right;\">\n",
       "      <th>Predicted</th>\n",
       "      <th>0</th>\n",
       "      <th>1</th>\n",
       "      <th>All</th>\n",
       "    </tr>\n",
       "    <tr>\n",
       "      <th>Actual</th>\n",
       "      <th></th>\n",
       "      <th></th>\n",
       "      <th></th>\n",
       "    </tr>\n",
       "  </thead>\n",
       "  <tbody>\n",
       "    <tr>\n",
       "      <th>0</th>\n",
       "      <td>20</td>\n",
       "      <td>23</td>\n",
       "      <td>43</td>\n",
       "    </tr>\n",
       "    <tr>\n",
       "      <th>1</th>\n",
       "      <td>2</td>\n",
       "      <td>109</td>\n",
       "      <td>111</td>\n",
       "    </tr>\n",
       "    <tr>\n",
       "      <th>All</th>\n",
       "      <td>22</td>\n",
       "      <td>132</td>\n",
       "      <td>154</td>\n",
       "    </tr>\n",
       "  </tbody>\n",
       "</table>\n",
       "</div>"
      ],
      "text/plain": [
       "Predicted   0    1  All\n",
       "Actual                 \n",
       "0          20   23   43\n",
       "1           2  109  111\n",
       "All        22  132  154"
      ]
     },
     "execution_count": 349,
     "metadata": {},
     "output_type": "execute_result"
    }
   ],
   "source": [
    "print(\"Logistic Regression's confusion matrix evaluation: \")\n",
    "pd.crosstab(y_test, log_reg_preds, rownames=['Actual'],colnames=['Predicted'], margins=True)"
   ]
  },
  {
   "cell_type": "markdown",
   "metadata": {},
   "source": [
    "## Saving the best model"
   ]
  },
  {
   "cell_type": "code",
   "execution_count": 350,
   "metadata": {},
   "outputs": [],
   "source": [
    "import pickle\n",
    "file = 'log_reg.pkl'\n",
    "pickle.dump(log_reg, open('log_reg.pkl', 'wb'))"
   ]
  },
  {
   "cell_type": "code",
   "execution_count": 351,
   "metadata": {},
   "outputs": [
    {
     "name": "stdout",
     "output_type": "stream",
     "text": [
      "0.8376623376623377\n"
     ]
    }
   ],
   "source": [
    "# Testing the model\n",
    "\n",
    "model = open('log_reg.pkl','rb')\n",
    "model_test = pickle.load(model)\n",
    "\n",
    "log_reg_test = model_test.score(X_test, y_test)\n",
    "print(log_reg_test)"
   ]
  },
  {
   "cell_type": "markdown",
   "metadata": {},
   "source": [
    "### End of analytical, cleaning, model building and model evaluation part. Second stage is to create webapp for end to end users."
   ]
  },
  {
   "cell_type": "code",
   "execution_count": null,
   "metadata": {},
   "outputs": [],
   "source": []
  }
 ],
 "metadata": {
  "kernelspec": {
   "display_name": "Python 3 (ipykernel)",
   "language": "python",
   "name": "python3"
  },
  "language_info": {
   "codemirror_mode": {
    "name": "ipython",
    "version": 3
   },
   "file_extension": ".py",
   "mimetype": "text/x-python",
   "name": "python",
   "nbconvert_exporter": "python",
   "pygments_lexer": "ipython3",
   "version": "3.8.5"
  }
 },
 "nbformat": 4,
 "nbformat_minor": 4
}
